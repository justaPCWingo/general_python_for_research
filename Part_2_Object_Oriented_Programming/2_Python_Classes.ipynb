{
 "cells": [
  {
   "cell_type": "markdown",
   "metadata": {},
   "source": [
    "# Python Classes\n",
    "\n",
    "As mentioned in the previous [workbook](1_Introduction.ipynb), **classes** are the cornerstone objects of Object Oriented Programming (OOP). The method for declaring a class in Python is fairly straightforward:"
   ]
  },
  {
   "cell_type": "code",
   "execution_count": 14,
   "metadata": {},
   "outputs": [],
   "source": [
    "class Blam(object):\n",
    "    # class content goes here\n",
    "    ..."
   ]
  },
  {
   "cell_type": "markdown",
   "metadata": {},
   "source": [
    "Any function or variable that exist within the scope of the class is known as a ***method*** or ***class variable***, respectively. The declaration of ***member variables*** is tied to the special `self` variable, which is covered in the next section."
   ]
  },
  {
   "cell_type": "code",
   "execution_count": 2,
   "metadata": {},
   "outputs": [],
   "source": [
    "class Blam(object):\n",
    "    \"\"\"This docstring provides a brief description of this class.\"\"\"\n",
    "    \n",
    "    # this is a class variable; all instances of the class share this value. individual values for each\n",
    "    # instance are stored in member variables.\n",
    "    blamVolume = 100\n",
    "    \n",
    "    def __init__(self):\n",
    "        # this is a special constructor method which will be described below.\n",
    "        ...\n",
    "        \n",
    "    def DoSomething(self, theThing):\n",
    "        # a normal class method.\n",
    "        ..."
   ]
  },
  {
   "cell_type": "markdown",
   "metadata": {},
   "source": [
    "Note the `object` variable name in the class declaration; this tells Python that this class *does not* inherit from a defined class (all classes, directly or indirectly, inherit from `object`). While `object` can be omitted, its recommended to include it for clarity.\n",
    "\n",
    "If a class inherits from another (as discussed in the previous [workbook](1_Introduction.ipynb)), the class name is included within the parentheses:"
   ]
  },
  {
   "cell_type": "code",
   "execution_count": 3,
   "metadata": {},
   "outputs": [],
   "source": [
    "class Boom(Blam):\n",
    "    # additional attributes and behaviors to add on top of Blam\n",
    "    ..."
   ]
  },
  {
   "cell_type": "markdown",
   "metadata": {},
   "source": [
    "Class declarations also support multiple inheritance (`class Noisy(Loud,Boom): ...`) and metaclasses (`class Foo(metaclass=Bar)`); however these are advanced topics that will be ignored for now."
   ]
  },
  {
   "cell_type": "markdown",
   "metadata": {},
   "source": [
    "To use a class, an instance object of if must be declared:"
   ]
  },
  {
   "cell_type": "code",
   "execution_count": 4,
   "metadata": {},
   "outputs": [],
   "source": [
    "# using the previous class 'Boom'\n",
    "\n",
    "noise = Boom()  # create an instance if the class\n",
    "\n",
    "# call the declared method with an argument\n",
    "noise.DoSomething('aThing')\n"
   ]
  },
  {
   "cell_type": "markdown",
   "metadata": {},
   "source": [
    "## The `self` method argument\n",
    "\n",
    "Notice in the previous code snippets, that the class `Boom` implements the `DoSomething` method with two arguments; yet when the method is invoked as part of the `noise` variable, only one argument is provided. This was intentional; when a class method is invoked, **the first argument to the method is always the class instance associated with the invocation**. While technically this first argument can be named anything, conventionally its labelled as `self`. A side effect of a standard method always has at least one argument: `self`. A fundamental concept of Object Oriented Programming is having an implicit object associated with a behavior. In this situation, many OOP languages provide a variable that is implicity defined; both Java and C++ implicitly declare a `this` variable that refers to the invoking instance. This is what python is doing with `self`, only its declaration is _explicit_.\n",
    "\n",
    "The `self` variable allows a method to specifically access and update an object's state:\n"
   ]
  },
  {
   "cell_type": "code",
   "execution_count": 6,
   "metadata": {},
   "outputs": [
    {
     "name": "stdout",
     "output_type": "stream",
     "text": [
      "The initial value is 3.\n",
      "After a call to increment(), the value is 4.\n",
      "After being multiplied by 5, The value is now 20.\n"
     ]
    }
   ],
   "source": [
    "# Example counter class\n",
    "class SomeCount(object):\n",
    "    \n",
    "    def __init__(self,start=0):\n",
    "        \"\"\"This method initializes a class object whenever instantiation occurs.\"\"\"\n",
    "        self.currCount=start\n",
    "        \n",
    "    def increment(self):\n",
    "        \"\"\"Increment the counter by one.\"\"\"\n",
    "        self.currCount+=1\n",
    "        \n",
    "    def multiplyBy(self,m):\n",
    "        \"\"\"Multiply the current value by the value of m.\"\"\"\n",
    "        self.currCount*=m\n",
    "        \n",
    "\n",
    "# create a new counter that starts at 3.\n",
    "counter = SomeCount(3)\n",
    "print(f'The initial value is {counter.currCount}.')\n",
    "\n",
    "counter.increment()\n",
    "\n",
    "print(f'After a call to increment(), the value is {counter.currCount}.')\n",
    "\n",
    "mVal = 5\n",
    "counter.multiplyBy(mVal)\n",
    "\n",
    "print(f'After being multiplied by {mVal}, The value is now {counter.currCount}.')"
   ]
  },
  {
   "cell_type": "markdown",
   "metadata": {},
   "source": [
    "## Magic Methods\n",
    "\n",
    "In Python, classes can define specific behaviors by implmenting **magic methods** (sometimes referred to as dunder methods). These are specially named methods, all of which begin and end with two underscores. Magic methods are used for initialization actions, operator overloading, and implementing standard container behaviors. A comprehensive list of magic methods can be found [here](https://docs.python.org/3/reference/datamodel.html#basic-customization), but we will touch upon some of the most common ones.\n",
    "\n",
    "Here's an example of a class which implements several magic methods:"
   ]
  },
  {
   "cell_type": "code",
   "execution_count": 13,
   "metadata": {},
   "outputs": [
    {
     "name": "stdout",
     "output_type": "stream",
     "text": [
      "There are 4 items for dinner.\n",
      "Dinner Menu:\n",
      "   Steak\n",
      "   Potatoes\n",
      "   Green Beans\n",
      "   Beer\n"
     ]
    }
   ],
   "source": [
    "class Menu(object):\n",
    "    \n",
    "    def __init__(self, menuName, items):\n",
    "        \"\"\"This magic method is called on initialization.\"\"\"\n",
    "        self.name = menuName\n",
    "        self.menuItems = items\n",
    "        \n",
    "    def __len__(self):\n",
    "        \"\"\"This method is called any time a Menu object is passed as an argument to len().\"\"\"\n",
    "        return len(self.menuItems)\n",
    "    \n",
    "    def __str__(self):\n",
    "        \"\"\"This magic method is called whenever a Menu object is recast to a string.\"\"\"\n",
    "        return '\\n'.join([f'{self.name} Menu:']+[f'   {itm}' for itm in self.menuItems])\n",
    "\n",
    "#######    \n",
    "\n",
    "# Create a dinner menu\n",
    "dinnerStuff = Menu('Dinner',['Steak','Potatoes','Green Beans','Beer'])\n",
    "\n",
    "# See how many items are in the menu\n",
    "print(f'There are {len(dinnerStuff)} items for dinner.')\n",
    "\n",
    "# convert the menu to a string, and display\n",
    "print(str(dinnerStuff))"
   ]
  },
  {
   "cell_type": "markdown",
   "metadata": {},
   "source": [
    "## Initialization and Destruction\n",
    "\n",
    "Whenever an instance of a class is created, directions may need to be included to describe how to construct the new instance; likewise, there may be special operations that need to be taken when an object is destroyed. Both of these scenarios are handled through magic methods: `__init__` and `__del__`, respectively. Given the automatic resource management nature of Python, its pretty rare that you will have to implement a custom `__del__` method, so for now we'll focus on the `__init__` method.\n",
    "\n",
    "An when a class object is initialized, the variable is assigned to the class name followed by the arguments to `__init__`:\n",
    "\n",
    "```python\n",
    "someObject = ClassName(initArg1,initArg2,...)\n",
    "```\n",
    "\n",
    "Aside from `self` being the first argument, the names and number of arguments to `__init__` are specific to the class; you should include any arguments that inform how to construct the class instance.\n",
    "\n",
    "Here's a simple class example:"
   ]
  },
  {
   "cell_type": "code",
   "execution_count": 16,
   "metadata": {},
   "outputs": [
    {
     "name": "stdout",
     "output_type": "stream",
     "text": [
      "A Red ball, with a radius of 8 inches, and a volume of 2144.6588 cubic inches.\n"
     ]
    }
   ],
   "source": [
    "class RubberBall(object):\n",
    "    \n",
    "    def __init__(self,color,radius):\n",
    "        # directly assign attributes\n",
    "        self.color = color\n",
    "        self.radius = radius\n",
    "        \n",
    "        # derived attribute\n",
    "        self.volume = (4/3)*3.14159*(self.radius**3)\n",
    "        \n",
    "    def __str__(self):\n",
    "        return f'A {self.color} ball, with a radius of {self.radius} inches, and a volume of {self.volume:.4f} cubic inches.'\n",
    "    \n",
    "\n",
    "# Create a ball and Display as string\n",
    "theBall = RubberBall('Red',8)\n",
    "\n",
    "print(str(theBall))"
   ]
  },
  {
   "cell_type": "markdown",
   "metadata": {},
   "source": [
    "Note that any attribute assigned to `self` can be accessed and modified as part of a class instance, using a dot ('.') syntax of the form  _object_._attribute_. While not strictly necessary, it is advisable to configure any attribute variables in the `__init__` method. By limiting attribute declaration/assignments to a single method, organizing and maintaining keeps things simple.\n",
    "\n",
    "Sometimes, you'll want to assign class attributes that are not expected to be accessed from outside of a class. Most OOP languages have access _permissions_ that are used to limit public and private access of class variables. Python does not have such labels; instead, a convention exists such that any attribute/member variable that begins with an underscore is considered **private**, or limited to the internal use of the class logic. Any other attribute/member variable name is assumed to be **public**, which may be accessed from code that is external to the class itself. While this convention is not strictly enforced, and you may decide not to follow it, knowing this convention will make it easier to better understand the intended use of code written by others."
   ]
  },
  {
   "cell_type": "markdown",
   "metadata": {},
   "source": [
    "## Member Vs Class Vs Static Methods:\n",
    "\n",
    "Lastly, its worth mentioning that there are a few different types of methods that can be a part of a class declaration, each of which is distinguished by decorators.\n",
    "\n",
    "So far, we've just talked about **member methods**, which do not require a decorator, and the first argument is assumed to be `self`. The **class methods**, in contrast, are predicated by the `@classmethod` decorator, with the first argument assumed to be the class definition (instead of a class definition); the conventional name of this argument is `cls`. Lastly there are **static methods**, which are predicated by `@staticmethod`, and have no assumed method arguments. Basically, static methods act like functions, but are prefixed with the class name when invoked (ie `className.staticFn()`). Static methods are useful for organization purposes, and Class methods are useful for certain metaprogramming patterns, but the vast of majority of times you'll only need to work with member methods, so we'll leave the discussion here."
   ]
  },
  {
   "cell_type": "code",
   "execution_count": null,
   "metadata": {},
   "outputs": [],
   "source": []
  }
 ],
 "metadata": {
  "kernelspec": {
   "display_name": "Python 3",
   "language": "python",
   "name": "python3"
  },
  "language_info": {
   "codemirror_mode": {
    "name": "ipython",
    "version": 3
   },
   "file_extension": ".py",
   "mimetype": "text/x-python",
   "name": "python",
   "nbconvert_exporter": "python",
   "pygments_lexer": "ipython3",
   "version": "3.8.5"
  }
 },
 "nbformat": 4,
 "nbformat_minor": 4
}
