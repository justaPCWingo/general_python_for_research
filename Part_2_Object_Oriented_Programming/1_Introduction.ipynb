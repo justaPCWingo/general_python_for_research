{
 "cells": [
  {
   "cell_type": "markdown",
   "metadata": {},
   "source": [
    "# Introduction\n",
    "\n",
    "This section will focus on giving a high level introduction to *Object-Oriented Programming* (OOP), explaining what it is and why it is useful. The Python implementation to OOP will be discussed in the next chapter.\n",
    "\n",
    "## What is *Object Oriented Programming*?\n",
    "\n",
    "*Object-Oriented Programming* (OOP) is a programming paradigm that attempts to bridge the gap between how computers interpret instructions and how humans classify and catagorize both objects and information. Effectively, OOP is a way to organize portions of code in a way that maximizes code **reusability** and maintains a **scalable structure** which simplifies the maintanence as a program grows larger over time. Many programming languages support OOP either solely (Java), or as one of a number of supported paradigms (Python, C++).\n",
    "\n",
    "The core concept of OOP is the ***object***, which is a conceptual construct that has both **attributes** (variables/data) and **behaviors** (code/functions). In addition to attributes and behaviors, there are several concepts important to OOP: **class**, **inheritance**, **encapsulation**, and **permissions**.\n",
    "\n",
    "### Class\n",
    "\n",
    "A *Class* is a coding construct that defines how to construct an OOP *object*. The class is such a fundamental construct that most OOP supporting languages declare `class` as a reserved keyword, and represents the other aforementioned concepts (attributes, behaviors, encapsulation, inheritance, and permissions). An object is created from a class through a process known as ***instantiation***. Additionally, classes typically either implicitly or explicitly defined *constructors* and/or *destructors* which describe how to allocate and deallocate an instantiated object, respectively.\n",
    "\n",
    "\n",
    "### Inheritance\n",
    "\n",
    "*Inheritance* is something that is not used often when initially learning OOP, but becomes a very significant tool in quick order, especially when working with large third-party APIs or frameworks. *Inheritance* is the practice of building a child class off of a parent class, with the child class \"inheriting\" some or all of the parent's attributes and / or behaviors. Conceptually, inheritance in OOP is similar to that use in phylogenetic classifications in biology (ie Domain, Kingdom, Phylum, Class, Order, Family, Genus, Species). If you wanted to represent a house cat, for example, you could implement a class `HouseCat`, which inherits from class `Feline`, which itelf inherits from class`Mammal`.\n",
    "\n",
    "In Python, that would look something like this:\n",
    "```python\n",
    "class Mammal(object):\n",
    "    ...\n",
    "    \n",
    "class Feline(Mammal):\n",
    "    ...\n",
    "    \n",
    "class HouseCat(Feline):\n",
    "    ...\n",
    "```\n",
    "\n",
    "If you wanted to have a Lion class, you could declare `class Lion(Feline):`; because `HouseCat` and `Lion` inherit from the same parent classes, they will share the same `Mammal` and `Feline` attributes and behaviors.\n",
    "\n",
    "Don't worry if this doesn't yet make much sense; we'll get into a more detailed discussion in **Class Inheritance** chapter.\n",
    "\n",
    "\n",
    "### Encapsulation\n",
    "\n",
    "*Encapsulation* is the practice of writing conceptually distinct pieces of code such that they are largely self contained. This is easily accomplished using **classes**, but can be accomplished with functions as well. The general idea is to only provide inputs and outputs taht are necessary for an encapsulated construct to \"communicate\" with other components. This practice makes it easier to plan and maintain code by mapping which regions of the program can be changed or modified without affecting other pieces. For example, maybe you have a custom implementation of a `sort()` function that is running very slow. If it is enapsulated properly, then only the body of the `sort()` function would need to be changed when implementing a faster sorting algorithm; anything relying on `sort()` will still be using the same invocation.\n",
    "\n",
    "It is likely you've already been encapsulating code in functions without realizing it. This practice will take on greater significance when working with OOP.\n",
    "\n",
    "\n",
    "\n",
    "### Permissions\n",
    "\n",
    "*Permissions* are descriptive labels of classes which describe which attributes can be referenced from outside of a class object or inherited by a child class. Permissions are typically used to enforce encapsulation and provide some structure to inheritance. Python is unique with OOP in that it doesn't enforce strict permissioning; Python's model is the equivalent to declaring all attributes and behaviors as *public*; that is, all attributes and behaviors are accessible outside the class and available to all child classes. While not necessary, it can be useful to communicate with others reading your code which variables are intended to be public and which are meant to be *private*, or only manipulated internally by a class instance. The convention in Python is to prefix member variables and methods with one (\\_) or two (\\_\\_) underscores to indicate that they should not be directly accessed by outside code. I'd recommend exercising this practice, but at the very least be aware of this convention when reading other people's code; it will clue you in to how they expect the code to be used.\n",
    "\n"
   ]
  },
  {
   "cell_type": "markdown",
   "metadata": {},
   "source": [
    "## The `class` object\n",
    "\n",
    "Let's get into more detail with what a class looks like in Python. Note that this will just be a brief introduction, with the ins and outs of Python classes being discussed in the next chapter.\n",
    "\n",
    "For this discussion, let's assume we have the following class declaration:\n"
   ]
  },
  {
   "cell_type": "code",
   "execution_count": 5,
   "metadata": {},
   "outputs": [],
   "source": [
    "class Greeting(object):\n",
    "    \n",
    "    def __init__(self,name,age):\n",
    "        self.name = name\n",
    "        self.age = age\n",
    "    \n",
    "    def Greet(self):\n",
    "        print(f'Hi there, my name is {self.name} and I am {self.age} years old')"
   ]
  },
  {
   "cell_type": "markdown",
   "metadata": {},
   "source": [
    "This class has two *member variables* acting as attributes: `name` and `age`. It also has two *methods*: `__init__():`, which is used to *instantiate* (or **construct**) a new object of class `Greeting`, and `Greet()`, which is a custom behavior.\n",
    "\n",
    "Note that a *member variable* is a variable that exist as part of an instantiated class object, whereas a *method* is a function that implicitly acts upon a class object.\n",
    "\n",
    "So I want to create a greeting for myself; here's how I'd do it:"
   ]
  },
  {
   "cell_type": "code",
   "execution_count": 6,
   "metadata": {},
   "outputs": [
    {
     "name": "stdout",
     "output_type": "stream",
     "text": [
      "Hi there, my name is Patrick and I am 36 years old\n"
     ]
    }
   ],
   "source": [
    "patGreet = Greeting('Patrick',36)\n",
    "patGreet.Greet()"
   ]
  },
  {
   "cell_type": "markdown",
   "metadata": {},
   "source": [
    "Attributes can be both read and modified:"
   ]
  },
  {
   "cell_type": "code",
   "execution_count": 8,
   "metadata": {},
   "outputs": [
    {
     "name": "stdout",
     "output_type": "stream",
     "text": [
      "Just age: 36\n",
      "Hi there, my name is Carl and I am 36 years old\n"
     ]
    }
   ],
   "source": [
    "# Just show age.\n",
    "print('Just age:',patGreet.age)\n",
    "\n",
    "# Switch name\n",
    "patGreet.name = 'Carl'\n",
    "\n",
    "# show new greeting\n",
    "patGreet.Greet()"
   ]
  },
  {
   "cell_type": "markdown",
   "metadata": {},
   "source": [
    "Lastly, we can create any number of `Greeting` objects for as many people as we want:"
   ]
  },
  {
   "cell_type": "code",
   "execution_count": 9,
   "metadata": {},
   "outputs": [
    {
     "name": "stdout",
     "output_type": "stream",
     "text": [
      "Hi there, my name is Theo and I am 4 years old\n",
      "Hi there, my name is Old Dude and I am 198 years old\n"
     ]
    }
   ],
   "source": [
    "theoGreet = Greeting('Theo',4)\n",
    "\n",
    "oldGreet = Greeting('Old Dude',198)\n",
    "\n",
    "theoGreet.Greet()\n",
    "oldGreet.Greet()"
   ]
  },
  {
   "cell_type": "markdown",
   "metadata": {},
   "source": [
    "The above examples are just scratching the surface, but hopefully it will provide some insight into the potential utility of classes and OOP. In the next chapter, we'll dive deep into how classes work in Python."
   ]
  },
  {
   "cell_type": "code",
   "execution_count": null,
   "metadata": {},
   "outputs": [],
   "source": []
  }
 ],
 "metadata": {
  "kernelspec": {
   "display_name": "Python 3",
   "language": "python",
   "name": "python3"
  },
  "language_info": {
   "codemirror_mode": {
    "name": "ipython",
    "version": 3
   },
   "file_extension": ".py",
   "mimetype": "text/x-python",
   "name": "python",
   "nbconvert_exporter": "python",
   "pygments_lexer": "ipython3",
   "version": "3.8.2"
  }
 },
 "nbformat": 4,
 "nbformat_minor": 4
}
