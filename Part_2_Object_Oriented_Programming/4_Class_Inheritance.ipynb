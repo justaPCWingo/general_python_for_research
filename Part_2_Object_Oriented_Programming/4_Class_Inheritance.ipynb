{
 "cells": [
  {
   "cell_type": "markdown",
   "metadata": {},
   "source": [
    "# Class Inheritance\n",
    "\n",
    "As previously mentioned, the concept of **inheritance** is crucial to implementing concepts important to OOP design. Inheritance is a method for a newly declared _subclass_ (the inheriting class) to inherit methods, attributes, and properties from a _superclass_ (the parent class). A class can act as both a subclass and a superclass, meaning entire inheritance heirarchies can be generated. This form of classification that should seem intuitive to how human beings classify things in ever more detail; I tend to see a class inheritance heirarchy akin to taxanomy classification in biology, with the higher levels (Domain, kingdom), being broad classifications and encomposing more organisms, while the lower levels (genus, species) are much more detailed in their descriptions, describing ever smaller subset of organisms.\n",
    "\n",
    "Inheritance is a complex subject; this section is intended to give a high level overview, with just enough detail where it can be recognized.\n",
    "\n",
    "## Why is inheritance useful?\n",
    "\n",
    "Inheritance is useful in both an abstract and a practical sense. In abstract, inheritance can be useful in the form described in the taxonomic example above; that is, it can be used to organize classes that represent similar constructs. Practically, inheritance encourages code reuse; if a group of classes share common behaviors (or at least common calls), than one should consider having them inherit from a common subclass. Additionally, inheritance allows for building upon, or _expanding_, an existing framework without having to know its full inner workings. For example, [Qt](https://www.qt.io/) is a comprehensive framework for building cross-platform Graphical User Interfaces (GUIs), which sometimes needs to be extended for specific applications. For BLOSOM, we created a custom color well button for choosing custom colors. This was accomplished by subclassing Qt's `QPushButton` class, overriding the `paintEvent()` method with custom draw behavior, and adding a few additional methods for loading the color picker and selecting specific colors. All other UI management for the button is handled by the parent classes. FYI, this particular case is common enough that several recipes exist for creating a colorwell button in Qt; the one we referenced can be found [here](https://stackoverflow.com/a/17033643).\n",
    "\n",
    "At this point, let's take a look at inheritance in action.\n",
    "\n",
    "## Declaring Inheritance\n",
    "\n",
    "### Subclassing\n",
    "\n",
    "Declaring a class to be a _subclass_ of another is as simple as declaring the parent's class name as part of the class's definition:"
   ]
  },
  {
   "cell_type": "code",
   "execution_count": 5,
   "metadata": {},
   "outputs": [],
   "source": [
    "# Start with a parent class.\n",
    "# if not inheriting from a custom class, have the class inherit from object, for clarity\n",
    "\n",
    "class ParentClass(object):\n",
    "    # have some definition here\n",
    "    ...\n",
    "    \n",
    "# now declare a class that inherits from parent class\n",
    "# The superclass is declared in the parentheses.\n",
    "class ChildClass(ParentClass):\n",
    "    \n",
    "    # various extended and overridden attributes and behaviors.\n",
    "    ..."
   ]
  },
  {
   "cell_type": "markdown",
   "metadata": {},
   "source": [
    "### Inherited methods and attributes\n",
    "\n",
    "Let's begin to fill in some details to better demonstrate how the class relationship works. In Python, a subclass will inherit any of the superclass methods and fields that are not explicitly overridden:"
   ]
  },
  {
   "cell_type": "code",
   "execution_count": 8,
   "metadata": {},
   "outputs": [
    {
     "name": "stdout",
     "output_type": "stream",
     "text": [
      "My name is Hank\n",
      "My name is Bobby\n",
      "I will sleep for 30 minutes.\n"
     ]
    },
    {
     "ename": "AttributeError",
     "evalue": "'ParentClass' object has no attribute 'napTime'",
     "output_type": "error",
     "traceback": [
      "\u001b[0;31m---------------------------------------------------------------------------\u001b[0m",
      "\u001b[0;31mAttributeError\u001b[0m                            Traceback (most recent call last)",
      "\u001b[0;32m<ipython-input-8-bf8b4f56f33e>\u001b[0m in \u001b[0;36m<module>\u001b[0;34m\u001b[0m\n\u001b[1;32m     34\u001b[0m \u001b[0;34m\u001b[0m\u001b[0m\n\u001b[1;32m     35\u001b[0m \u001b[0;31m# that the parent does not have (the following line will crash)...\u001b[0m\u001b[0;34m\u001b[0m\u001b[0;34m\u001b[0m\u001b[0;34m\u001b[0m\u001b[0m\n\u001b[0;32m---> 36\u001b[0;31m \u001b[0mpop\u001b[0m\u001b[0;34m.\u001b[0m\u001b[0mnapTime\u001b[0m\u001b[0;34m(\u001b[0m\u001b[0;36m30\u001b[0m\u001b[0;34m)\u001b[0m\u001b[0;34m\u001b[0m\u001b[0;34m\u001b[0m\u001b[0m\n\u001b[0m",
      "\u001b[0;31mAttributeError\u001b[0m: 'ParentClass' object has no attribute 'napTime'"
     ]
    }
   ],
   "source": [
    "class ParentClass(object):\n",
    "    \n",
    "    # lets provide a simple initializer here\n",
    "    def __init__(self,name):\n",
    "        self._name = name\n",
    "        \n",
    "    # and a simple behavior\n",
    "    def printName(self):\n",
    "        print(f'My name is {self._name}')\n",
    "    \n",
    "    \n",
    "class ChildClass(ParentClass):\n",
    "    \n",
    "    # the __init__ and printName methods will be inherited.\n",
    "    # Lets add an additional behavior for the child\n",
    "    \n",
    "    def napTime(self,minutes):\n",
    "        print(f'I will sleep for {minutes} minutes.')\n",
    "        \n",
    "# lets demonstrate:\n",
    "# start with a parent class\n",
    "pop = ParentClass('Hank')\n",
    "pop.printName()\n",
    "\n",
    "# and child\n",
    "# note that we can make the same two calls for the childclass that\n",
    "# we did for the parent class, since they were inherited\n",
    "\n",
    "child = ChildClass('Bobby')\n",
    "child.printName()\n",
    "\n",
    "# note that child has an additional behavior...\n",
    "child.napTime(30)\n",
    "\n",
    "# that the parent does not have (the following line will crash)...\n",
    "pop.napTime(30)"
   ]
  },
  {
   "cell_type": "markdown",
   "metadata": {},
   "source": [
    "### Overriding _superclass_ methods\n",
    "\n",
    "While it is nice to share behaviors, sometimes we want to actually replace them. This is achieved through the process of **overriding**. To override a parent method, simple have the subclass declare a method with the same name and arguments. If you want to simply build upon a parent class' method, you can add the extending logic to the overriding method and then call the method being overridden using the `super()` syntax.\n",
    "\n",
    "If this is confusing, you've likely already seen a method override and parent call with a class' `__init__()` method; in fact, many IDE's will warn you if you implement a `__init__()` method without calling `super().__init__`.\n",
    "\n",
    "***Note:*** _The form of `super()` I'll be using was introduced in Python 3, which omits the class name; I tend to leave out the parent class name as an argument to `super()` because I feel that's implied. However, there are times where you may need to include it, or see other implementations which have; in that case, you'll likely see somthing along the lines of `super(<p.class>).__init__()`, where `<p.class>` is the name of the superclass._\n",
    "\n",
    "Here's a slightly more complex case of inheritance:"
   ]
  },
  {
   "cell_type": "code",
   "execution_count": 9,
   "metadata": {},
   "outputs": [
    {
     "name": "stdout",
     "output_type": "stream",
     "text": [
      "I am a ball colored red\n",
      "I am a basket ball used for playing basketball (surprising, I know)\n",
      "I am a white ball used for playing soccer\n",
      "I am a blue ball used for playing soccer\n",
      "   I am size 3\n",
      "I am a nuclear green ball used for playing soccer\n",
      "   I am size 5\n"
     ]
    }
   ],
   "source": [
    "# Start with a parent class\n",
    "class Ball(object):\n",
    "    \n",
    "    def __init__(self, color):\n",
    "        \n",
    "        self.base_color = color\n",
    "        \n",
    "    def description(self):\n",
    "        print(f'I am a ball colored {self.base_color}')\n",
    "\n",
    "# create some child classes\n",
    "class SoccerBall(Ball):\n",
    "    \n",
    "    def __init__(self, color):\n",
    "        # forward color to parent constructor\n",
    "        super().__init__(color)\n",
    "        \n",
    "    # completely override description\n",
    "    def description(self):\n",
    "        print(f'I am a {self.base_color} ball used for playing soccer')\n",
    "    \n",
    "class BasketBall(Ball):\n",
    "    \n",
    "    def __init__(self):\n",
    "        # set the standard color as orange when calling super.__init__\n",
    "        super().__init__('orange')\n",
    "    \n",
    "    # completely override description\n",
    "    def description(self):\n",
    "        print(f'I am a basket ball used for playing basketball (surprising, I know)')\n",
    "    \n",
    "    \n",
    "# Create an extra subclass for soccerball\n",
    "class SizedSoccerBall(SoccerBall):\n",
    "    \n",
    "    def __init__(self,color,size):\n",
    "        # will call SoccerBall.__init__, which will call Ball.__init__\n",
    "        super().__init__(color)\n",
    "        self.size = size\n",
    "        \n",
    "    # extend parent method\n",
    "    def description(self):\n",
    "        super().description()\n",
    "        print(f'   I am size {self.size}')\n",
    "        \n",
    "\n",
    "# lets create some balls!\n",
    "\n",
    "simpleBall = Ball('red')\n",
    "basketBall = BasketBall()\n",
    "\n",
    "soccerBall = SoccerBall('white')\n",
    "smallSoccerball = SizedSoccerBall('blue',3)\n",
    "regulationSBall = SizedSoccerBall('nuclear green',5)\n",
    "\n",
    "# have the balls describe themselves!!\n",
    "\n",
    "simpleBall.description()\n",
    "basketBall.description()\n",
    "soccerBall.description()\n",
    "smallSoccerball.description()\n",
    "regulationSBall.description()\n"
   ]
  },
  {
   "cell_type": "markdown",
   "metadata": {},
   "source": [
    "### Multiple Inheritance\n",
    "\n",
    "So far, we've only discussed a subclass inheriting from a single superclass. Python, however, supports the concept of __multiple inheritance__, where a single subclass inherits features from multiple subclasses:"
   ]
  },
  {
   "cell_type": "code",
   "execution_count": 17,
   "metadata": {},
   "outputs": [
    {
     "name": "stdout",
     "output_type": "stream",
     "text": [
      "A Value:1, B Value: 4, A+B Value: 5\n"
     ]
    }
   ],
   "source": [
    "# start with two independent classes\n",
    "class A_Dummy(object):\n",
    "    \n",
    "    def __init__(self):\n",
    "        self.a = 1\n",
    "        \n",
    "class B_Dummy(object):\n",
    "\n",
    "    def __init__(self):\n",
    "        self.b = 4\n",
    "\n",
    "# create a class that inherits the previous two classes\n",
    "class AB_Dummy(A_Dummy,B_Dummy):\n",
    "    \n",
    "    def __init__(self):\n",
    "        # since we have multiple supers, we need to be explicit:\n",
    "        A_Dummy.__init__(self)\n",
    "        B_Dummy.__init__(self)\n",
    "        \n",
    "        # take values and combine\n",
    "        self.ab=self.a+self.b\n",
    "        \n",
    "# demo!!\n",
    "\n",
    "test = AB_Dummy()\n",
    "\n",
    "print(f'A Value:{test.a}, B Value: {test.b}, A+B Value: {test.ab}')\n",
    "    \n"
   ]
  },
  {
   "cell_type": "markdown",
   "metadata": {},
   "source": [
    "While multiple inheritance is quite useful, it can introduce some complexities that result in some annoying headaches, such as the [diamond of death](https://en.wikipedia.org/wiki/Multiple_inheritance#The_diamond_problem). In fact, a number of OOP languages explicitly forbid multiple inheritance, and instead use _interfaces_ or _protocols_ to fill the equivalent niches.\n",
    "\n",
    "Generally I'd suggest avoiding multiple inheritance until you've got a solid grasp on OOP and single inheritance. This shouldn't be a hinderance, as multiple inheritance is rarely needed."
   ]
  },
  {
   "cell_type": "markdown",
   "metadata": {},
   "source": [
    "### Abstract Base Classes: Optional but useful\n",
    "\n",
    "In the previous section, I mentioned _interfaces_ and _protocols_; these are conceptual constructs which themselves are related to the _Abstract Base Class_ or _ABC_. The differences between the three are nuanced and the discussion about this will be omitted, as we are just focusing on ABCs.\n",
    "\n",
    "An ABC is a form of contract, and is not directly useable by itself. Instead, an ABC defines a set of methods and/or properties/attributes that all inheriting subclass are obligated to override and implement. While optional in python, this is a useful practice for conveying a programmers intentions on how extended classes should be interacted with, even if the specifics of the implementation are unknown.\n",
    "\n",
    "Python 3 provides an ABC class that uses a combination of class inheritance and decorators (remember those?) to create the contract for any inheriting class to conform to. Any violation of the \"contract\" will result in a run time error.\n",
    "\n",
    "Here's an annotated example of an ABC in action:"
   ]
  },
  {
   "cell_type": "code",
   "execution_count": 18,
   "metadata": {},
   "outputs": [
    {
     "ename": "TypeError",
     "evalue": "Can't instantiate abstract class Cake with abstract methods flavorProfile",
     "output_type": "error",
     "traceback": [
      "\u001b[0;31m---------------------------------------------------------------------------\u001b[0m",
      "\u001b[0;31mTypeError\u001b[0m                                 Traceback (most recent call last)",
      "\u001b[0;32m<ipython-input-18-d0d028ac0422>\u001b[0m in \u001b[0;36m<module>\u001b[0;34m\u001b[0m\n\u001b[1;32m     50\u001b[0m \u001b[0;31m# get some deserts:\u001b[0m\u001b[0;34m\u001b[0m\u001b[0;34m\u001b[0m\u001b[0;34m\u001b[0m\u001b[0m\n\u001b[1;32m     51\u001b[0m \u001b[0mvanillaIC\u001b[0m \u001b[0;34m=\u001b[0m \u001b[0mIceCream\u001b[0m\u001b[0;34m(\u001b[0m\u001b[0;34m'vanilla'\u001b[0m\u001b[0;34m)\u001b[0m\u001b[0;34m\u001b[0m\u001b[0;34m\u001b[0m\u001b[0m\n\u001b[0;32m---> 52\u001b[0;31m \u001b[0mchocCake\u001b[0m \u001b[0;34m=\u001b[0m \u001b[0mCake\u001b[0m\u001b[0;34m(\u001b[0m\u001b[0;34m'chocolate'\u001b[0m\u001b[0;34m)\u001b[0m\u001b[0;34m\u001b[0m\u001b[0;34m\u001b[0m\u001b[0m\n\u001b[0m\u001b[1;32m     53\u001b[0m \u001b[0;34m\u001b[0m\u001b[0m\n\u001b[1;32m     54\u001b[0m \u001b[0;31m# since the deserts inherit from the same parent, we can safely\u001b[0m\u001b[0;34m\u001b[0m\u001b[0;34m\u001b[0m\u001b[0;34m\u001b[0m\u001b[0m\n",
      "\u001b[0;31mTypeError\u001b[0m: Can't instantiate abstract class Cake with abstract methods flavorProfile"
     ]
    }
   ],
   "source": [
    "# retrieve the ABC class and decorator\n",
    "from abc import ABC,abstractmethod\n",
    "\n",
    "# first create a subclass of ABC\n",
    "class DesertABC(ABC):\n",
    "    \n",
    "    # we can skip __init__()\n",
    "    \n",
    "    #for each function that a subclass is required to implement use the @abstractmethod decorator\n",
    "    # the method itself should be declared empty using ... or pass\n",
    "    \n",
    "    @abstractmethod\n",
    "    def calorieCount():\n",
    "        ...\n",
    "        \n",
    "    @abstractmethod\n",
    "    def flavorProfile():\n",
    "        ...\n",
    "        \n",
    "\n",
    "# some desert classes\n",
    "\n",
    "class IceCream(DesertABC):\n",
    "    \n",
    "    def __init__(self,flavor):\n",
    "        # don't need super as DesertABC does not implment __init__\n",
    "        self.flavor = flavor\n",
    "        \n",
    "    def calorieCount():\n",
    "        return 400\n",
    "\n",
    "    def flavorProfile():\n",
    "        return f'cold, sweet, {flavor}'\n",
    "    \n",
    "class Cake(DesertABC):\n",
    "    \n",
    "    def __init__(self,style):\n",
    "        \n",
    "        self.style = style\n",
    "        \n",
    "    def calorieCount():\n",
    "        return 600\n",
    "    \n",
    "    # oops! we forgot the flavorProfile() override!\n",
    "    # normally, the parent class would handle this, but\n",
    "    # not an @abstractmethod...\n",
    "    \n",
    "\n",
    "    \n",
    "# get some deserts:\n",
    "vanillaIC = IceCream('vanilla')\n",
    "chocCake = Cake('chocolate')     # this will fail!\n",
    "    \n",
    "# since the deserts inherit from the same parent, we can safely\n",
    "# iterate through them in a loop, provided we don't deviate from \n",
    "# the parent methods\n",
    "\n",
    "for name,d in zip(('Vanilla ice cream','Chocolate Cake'),(vanillaIC,chocCake)):\n",
    "    print(f'{name}: {d.calorieCount()} calories; {d.flavorProfile()}')\n",
    "    \n"
   ]
  },
  {
   "cell_type": "markdown",
   "metadata": {},
   "source": [
    "The above block of code breaks, with the stack trace pointing out that the `Cake` subclass has not implemented `flavorProfile()`. Implementing the missing method in `Cake` will fix this issue.\n",
    "\n",
    "Despite being entirely optional, an ABC can be useful for ensuring that all expected methods are implemented, and crashing with a descriptive error if any are missing. While ABC's may not be useful right away, you are more likely to encounter them in larger frameworks/projects, or with code that is being expanded upon by many people."
   ]
  },
  {
   "cell_type": "markdown",
   "metadata": {},
   "source": [
    "# Inheritance Diagrams\n",
    "\n",
    "Inheritance diagrams are useful for visually graphing how classes are related to one another. Many documentation generators, including [Sphinx](https://www.sphinx-doc.org/en/master/) and [Doxygen](https://www.doxygen.nl/index.html), will create inheritance diagrams if requested; the professional version of [Pycharm](https://www.jetbrains.com/pycharm/) will do this as well. If you are more of a visual learner, it may be useful to either track down, or create yourself, an inheritance diagram for any large frameworks you may be working with."
   ]
  },
  {
   "cell_type": "code",
   "execution_count": null,
   "metadata": {},
   "outputs": [],
   "source": []
  }
 ],
 "metadata": {
  "kernelspec": {
   "display_name": "Python 3",
   "language": "python",
   "name": "python3"
  },
  "language_info": {
   "codemirror_mode": {
    "name": "ipython",
    "version": 3
   },
   "file_extension": ".py",
   "mimetype": "text/x-python",
   "name": "python",
   "nbconvert_exporter": "python",
   "pygments_lexer": "ipython3",
   "version": "3.8.5"
  }
 },
 "nbformat": 4,
 "nbformat_minor": 4
}
