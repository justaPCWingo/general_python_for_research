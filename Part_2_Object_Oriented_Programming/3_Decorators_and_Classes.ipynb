{
 "cells": [
  {
   "cell_type": "markdown",
   "metadata": {},
   "source": [
    "# Decorators and Classes\n",
    "\n",
    "## What is a Decorator?\n",
    "\n",
    "In python, a ***decorator*** is a way to attach additional functionality to a function or method. Technically, a decorator is a form of _syntactic sugar_: an optional language syntax that simplifies a routine construct to increase readability and decrease maintenance burden. Python's decorator is shorthand for a function which takes another function as its first argument and returns a wrapper function of some sort.\n",
    "\n",
    "A decorator begins with a `@` and directly preceeds the function definition that it is decorating:"
   ]
  },
  {
   "cell_type": "code",
   "execution_count": 4,
   "metadata": {},
   "outputs": [
    {
     "name": "stdout",
     "output_type": "stream",
     "text": [
      "Calling function...\n",
      "Hi there, Theo\n",
      "Done\n"
     ]
    }
   ],
   "source": [
    "# create function to use as @some_decorator\n",
    "def some_decorator(fn):\n",
    "    # use args and kwargs to foward arguments from wrapper to function\n",
    "    def wrapper(*args,**kwargs):\n",
    "        print ('Calling function...')\n",
    "        fn(*args,**kwargs)\n",
    "        print('Done')\n",
    "    return wrapper\n",
    "\n",
    "# build a function and decorate\n",
    "@some_decorator\n",
    "def greet(name):\n",
    "    print('Hi there,',name)\n",
    "    \n",
    "greet('Theo')"
   ]
  },
  {
   "cell_type": "markdown",
   "metadata": {},
   "source": [
    "Is the above a bit confusing? don't worry; the implementation is there for completeness of discussion. The remaining sections on this topic will just cover a handful of existing decorators that you may encounter when practicing OOP in Python.\n",
    "\n",
    "## Common class-associated Decorators\n",
    "\n",
    "### `@property`\n",
    "\n",
    "In object oriented programming terms, a ***property*** is similar to an attribute, except that a property may be *derived* from other properties or attributes internal to the class definition.\n",
    "\n",
    "In python, the `@property` decorator essentially takes a _getter_ method and causes it to act as a read-only attribute:"
   ]
  },
  {
   "cell_type": "code",
   "execution_count": 6,
   "metadata": {},
   "outputs": [
    {
     "name": "stdout",
     "output_type": "stream",
     "text": [
      "42\n"
     ]
    },
    {
     "ename": "AttributeError",
     "evalue": "can't set attribute",
     "output_type": "error",
     "traceback": [
      "\u001b[0;31m---------------------------------------------------------------------------\u001b[0m",
      "\u001b[0;31mAttributeError\u001b[0m                            Traceback (most recent call last)",
      "\u001b[0;32m<ipython-input-6-9b59fd04076b>\u001b[0m in \u001b[0;36m<module>\u001b[0;34m\u001b[0m\n\u001b[1;32m     15\u001b[0m \u001b[0;34m\u001b[0m\u001b[0m\n\u001b[1;32m     16\u001b[0m \u001b[0;31m# but not this:\u001b[0m\u001b[0;34m\u001b[0m\u001b[0;34m\u001b[0m\u001b[0;34m\u001b[0m\u001b[0m\n\u001b[0;32m---> 17\u001b[0;31m \u001b[0mroVal\u001b[0m\u001b[0;34m.\u001b[0m\u001b[0mvalue\u001b[0m \u001b[0;34m=\u001b[0m \u001b[0;36m13\u001b[0m\u001b[0;34m\u001b[0m\u001b[0;34m\u001b[0m\u001b[0m\n\u001b[0m",
      "\u001b[0;31mAttributeError\u001b[0m: can't set attribute"
     ]
    }
   ],
   "source": [
    "class ReadOnlyValue(object):\n",
    "    def __init__(self,value):\n",
    "        # store value in \"private\" variable\n",
    "        self._value = value\n",
    "        \n",
    "    @property\n",
    "    def value(self):\n",
    "        return self._value\n",
    "    \n",
    "\n",
    "roVal = ReadOnlyValue(42)\n",
    "# value attribute is read only, so\n",
    "# this will work:\n",
    "print(roVal.value)\n",
    "\n",
    "# but not this:\n",
    "roVal.value = 13"
   ]
  },
  {
   "cell_type": "markdown",
   "metadata": {},
   "source": [
    "We can also use `@property` to present a derived value as an attribute:"
   ]
  },
  {
   "cell_type": "code",
   "execution_count": 7,
   "metadata": {},
   "outputs": [
    {
     "name": "stdout",
     "output_type": "stream",
     "text": [
      "a Vector of (3,4) has a magnitude of 5.0\n"
     ]
    }
   ],
   "source": [
    "class Vector2D(object):\n",
    "    \n",
    "    def __init__(self,x,y):\n",
    "        \n",
    "        self.x = x\n",
    "        self.y = y\n",
    "        \n",
    "    @property\n",
    "    def magnitude(self):\n",
    "        # use xy coordinates to derive magnitude.\n",
    "        return (self.x**2 + self.y**2)**0.5\n",
    "    \n",
    "vec = Vector2D(x=3,y=4)\n",
    "\n",
    "print(f'a Vector of ({vec.x},{vec.y}) has a magnitude of {vec.magnitude}')\n",
    "    \n",
    "    "
   ]
  },
  {
   "cell_type": "markdown",
   "metadata": {},
   "source": [
    "As stated above, a function that is decorated with `@property`, creates a read-only attribute; if you want to write to the property, you need to provide a function decorated with `@<property>.setter`, where `<property>` is the name of the property that the setter is being applied to."
   ]
  },
  {
   "cell_type": "code",
   "execution_count": 12,
   "metadata": {},
   "outputs": [
    {
     "name": "stdout",
     "output_type": "stream",
     "text": [
      "value set to 13\n",
      "value set to 32\n"
     ]
    }
   ],
   "source": [
    "class ValueChangeLogger(object):\n",
    "    \n",
    "    def __init__(self):\n",
    "        self._value=0\n",
    "        \n",
    "    @property\n",
    "    def value(self):\n",
    "        # for the getter, just return the value\n",
    "        return self._value\n",
    "    \n",
    "    @value.setter\n",
    "    def value(self,v):\n",
    "        # a property setter function should have the same name as the property, and take only one value (aside from self)\n",
    "        self._value = v\n",
    "        print(f'value set to {self._value}')\n",
    "        \n",
    "\n",
    "vcl = ValueChangeLogger()\n",
    "vcl.value = 13\n",
    "vcl.value = 32\n",
    " "
   ]
  },
  {
   "cell_type": "markdown",
   "metadata": {},
   "source": [
    "### `@classmethod` and `@staticmethod`\n",
    "\n",
    "As mentioned in the previous section, class methods and static methods are declared within a class using the `@classmethod` and `@staticmethod` decorators, respectively.\n",
    "\n",
    "The following example demonstrates the differences between a member method, class method, and static method:"
   ]
  },
  {
   "cell_type": "code",
   "execution_count": 2,
   "metadata": {},
   "outputs": [
    {
     "name": "stdout",
     "output_type": "stream",
     "text": [
      "member\n",
      "class\n",
      "static\n"
     ]
    }
   ],
   "source": [
    "# static Value\n",
    "VAL = 'static'\n",
    "\n",
    "class ScopeExample(object):\n",
    "    \n",
    "    # class value\n",
    "    VAL = 'class'\n",
    "    \n",
    "    def __init__(self):\n",
    "        self.VAL = 'member'\n",
    "        \n",
    "    def mPrint(self):\n",
    "        print(self.VAL)\n",
    "\n",
    "    @classmethod\n",
    "    def cPrint(cls):\n",
    "        print(cls.VAL)\n",
    "        \n",
    "    @staticmethod\n",
    "    def sPrint():\n",
    "        print(VAL)\n",
    "        \n",
    "test=ScopeExample()\n",
    "\n",
    "# member\n",
    "test.mPrint()\n",
    "\n",
    "# class ( can also be invoked as test.cPrint() )\n",
    "ScopeExample.cPrint()\n",
    "\n",
    "# static ( can also be invoked as test.sPrint() )\n",
    "ScopeExample.sPrint()"
   ]
  },
  {
   "cell_type": "code",
   "execution_count": null,
   "metadata": {},
   "outputs": [],
   "source": []
  }
 ],
 "metadata": {
  "kernelspec": {
   "display_name": "Python 3",
   "language": "python",
   "name": "python3"
  },
  "language_info": {
   "codemirror_mode": {
    "name": "ipython",
    "version": 3
   },
   "file_extension": ".py",
   "mimetype": "text/x-python",
   "name": "python",
   "nbconvert_exporter": "python",
   "pygments_lexer": "ipython3",
   "version": "3.8.5"
  }
 },
 "nbformat": 4,
 "nbformat_minor": 4
}
