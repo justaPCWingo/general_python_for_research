{
 "cells": [
  {
   "cell_type": "markdown",
   "metadata": {},
   "source": [
    "# Functions\n",
    "\n",
    "So far, we've covered how to construct instructions using Python; now we will look at how to organize code using functions. A **function** is a block of reusable code, which may take 0 or more *arguments*, and return one or more values.\n",
    "\n",
    "A function usually encompasses a self-contained task or subtask. So far, we've used a number of built in functions such as *print*:"
   ]
  },
  {
   "cell_type": "code",
   "execution_count": 6,
   "metadata": {},
   "outputs": [
    {
     "name": "stdout",
     "output_type": "stream",
     "text": [
      "Hi!!\n",
      "Left Right\n",
      "Left <=> Right\n",
      "Left <=> Right!!\n",
      "~~~~~~~~~~~~~~~\n",
      "\n",
      "Help on built-in function print in module builtins:\n",
      "\n",
      "print(...)\n",
      "    print(value, ..., sep=' ', end='\\n', file=sys.stdout, flush=False)\n",
      "    \n",
      "    Prints the values to a stream, or to sys.stdout by default.\n",
      "    Optional keyword arguments:\n",
      "    file:  a file-like object (stream); defaults to the current sys.stdout.\n",
      "    sep:   string inserted between values, default a space.\n",
      "    end:   string appended after the last value, default a newline.\n",
      "    flush: whether to forcibly flush the stream.\n",
      "\n"
     ]
    }
   ],
   "source": [
    "# We've been using print in its most basic form,\n",
    "# namely just passing a single string:\n",
    "print('Hi!!')\n",
    "\n",
    "# however, print can take multiple strings...\n",
    "print('Left','Right')\n",
    "\n",
    "# with a distinct seperator...\n",
    "print('Left','Right',sep=' <=> ')\n",
    "\n",
    "# and a final string\n",
    "print('Left','Right',sep=' <=> ',end='!!\\n~~~~~~~~~~~~~~~\\n\\n')\n",
    "\n",
    "# Note that the print function does not return a value.\n",
    "# This is just a sampling of print. For a full list of \n",
    "# arguments, open a python console and type: \n",
    "help(print)"
   ]
  },
  {
   "cell_type": "markdown",
   "metadata": {},
   "source": [
    "## Calling functions\n",
    "\n",
    "A function is called (or *invoked*) by declaring the name of the function in code followed by parentheses enclosing any arguments, or nothing:"
   ]
  },
  {
   "cell_type": "code",
   "execution_count": 5,
   "metadata": {},
   "outputs": [
    {
     "name": "stdout",
     "output_type": "stream",
     "text": [
      "hello, Hogarth\n",
      "...\n",
      "goodbye\n"
     ]
    }
   ],
   "source": [
    "# some example functions\n",
    "# for function definitions, see next section\n",
    "def greet(name):\n",
    "    print('hello,',name)\n",
    "    \n",
    "def seeya():\n",
    "    print('goodbye')\n",
    "\n",
    "greet('Hogarth')\n",
    "print('...')\n",
    "seeya()"
   ]
  },
  {
   "cell_type": "markdown",
   "metadata": {},
   "source": [
    "A variable can be assigned to the return value of a function:"
   ]
  },
  {
   "cell_type": "code",
   "execution_count": 11,
   "metadata": {},
   "outputs": [
    {
     "name": "stdout",
     "output_type": "stream",
     "text": [
      "6\n"
     ]
    }
   ],
   "source": [
    "def addone(val):\n",
    "    return val+1\n",
    "\n",
    "k = addone(5)\n",
    "\n",
    "print(str(k))"
   ]
  },
  {
   "cell_type": "markdown",
   "metadata": {},
   "source": [
    "### Arguments\n",
    "\n",
    "In python, there are two methods for providing arguments: by **position**, or by **keyword** (name). Positional arguments are assigned to argument variables by the order they are declared. Named arguments, however, can be declared in any order, with the value assigned to a specific argument. Note that named arguments must always follow positional arguments. In Python, most positional arguments can be referred to by name,as long as the first positional argument has been provided.. If you want to quickly look up arguments to a python function, open a Python console session and call the help function with the name of the function in question.\n",
    "\n",
    "Here are examples of passing arguments:"
   ]
  },
  {
   "cell_type": "code",
   "execution_count": 9,
   "metadata": {},
   "outputs": [
    {
     "name": "stdout",
     "output_type": "stream",
     "text": [
      "blam\n",
      "Bang!\n"
     ]
    }
   ],
   "source": [
    "# print with positional argument\n",
    "print('blam')\n",
    "\n",
    "# print with positional and named argument\n",
    "print('Bang',end='!\\n')"
   ]
  },
  {
   "cell_type": "markdown",
   "metadata": {},
   "source": [
    "## Declaring functions\n",
    "\n",
    "\n",
    "Functions are declared using the **def** keyword, followed by the name, arguments, and a colon (:). All code included in the function is indented one level below the function declaration:"
   ]
  },
  {
   "cell_type": "code",
   "execution_count": 12,
   "metadata": {},
   "outputs": [
    {
     "name": "stdout",
     "output_type": "stream",
     "text": [
      "hello, Dude!\n"
     ]
    }
   ],
   "source": [
    "# Declare the function with only one argument\n",
    "def printHello(name):\n",
    "    print ('hello, '+name+'!')\n",
    "    \n",
    "# run the function\n",
    "printHello('Dude')"
   ]
  },
  {
   "cell_type": "markdown",
   "metadata": {},
   "source": [
    "Functions can optionally contain a *docstring* as the first line of the function's code. A *docstring* is a triple-quoted string that isn't explicitly assigned to a variable which is used as the documentation for the function when `help()` is called or when third-party software is being deployed to generate source code documentation. "
   ]
  },
  {
   "cell_type": "code",
   "execution_count": 16,
   "metadata": {},
   "outputs": [
    {
     "name": "stdout",
     "output_type": "stream",
     "text": [
      "Help on function somefunction in module __main__:\n",
      "\n",
      "somefunction()\n",
      "    This is a docstring. Here you should describe what the function\n",
      "    does, what arguments are expected, and what values are returned, if any.\n",
      "    While triple-single quotes (') will work, double-quotes (\") are expected\n",
      "    by some parsing tools.\n",
      "\n"
     ]
    }
   ],
   "source": [
    "def somefunction():\n",
    "    \"\"\"This is a docstring. Here you should describe what the function\n",
    "    does, what arguments are expected, and what values are returned, if any.\n",
    "    While triple-single quotes (') will work, double-quotes (\") are expected\n",
    "    by some parsing tools.\n",
    "    \"\"\"\n",
    "    pass\n",
    "\n",
    "help(somefunction)"
   ]
  },
  {
   "cell_type": "markdown",
   "metadata": {},
   "source": [
    "\n",
    "### Argument declarations\n",
    "\n",
    "There are a few different approaches to defining the arguments. By far the most common approach is to list the argument variables explicitly. Such arguments can be populated during the function invocation by the *order* of the argument values, or by explicitly naming argument variables as keyword arguments:"
   ]
  },
  {
   "cell_type": "code",
   "execution_count": 13,
   "metadata": {},
   "outputs": [
    {
     "name": "stdout",
     "output_type": "stream",
     "text": [
      "Positional: \n",
      "3.0\n",
      "Keyword: \n",
      "3.0\n",
      "Both: \n",
      "3.0\n"
     ]
    }
   ],
   "source": [
    "# declare a function with a few values\n",
    "def entryCount(total,mean):\n",
    "    print( total / mean)\n",
    "    \n",
    "# refer to arguments by position\n",
    "print(\"Positional: \")\n",
    "entryCount(27,9)\n",
    "\n",
    "# use keywords. Note that the order doesn't matter with keywords\n",
    "print(\"Keyword: \")\n",
    "entryCount(mean=9,total=27)\n",
    "\n",
    "# Position and keyword invocations can be combined. Note that \n",
    "# keyword arguments must follow positional arguments.\n",
    "print(\"Both: \")\n",
    "entryCount(27,mean=9)\n",
    "\n"
   ]
  },
  {
   "cell_type": "markdown",
   "metadata": {},
   "source": [
    "Functions can also provide **default values** for program arguments. This works particularly well when combined with keyword assignment of functions:"
   ]
  },
  {
   "cell_type": "code",
   "execution_count": 15,
   "metadata": {},
   "outputs": [
    {
     "name": "stdout",
     "output_type": "stream",
     "text": [
      "This T-shirt is colored Red, in a XXL, with the logo Boom\n",
      "This T-shirt is colored Tangerine, in a M, with the logo BLAM!\n",
      "This T-shirt is colored Purple, in a S, with the logo BLAM!\n",
      "This T-shirt is colored Blue, in a M, with the logo #!\n"
     ]
    }
   ],
   "source": [
    "# Note that any argument variables with default values must follow those which don't\n",
    "\n",
    "def describeTShirt(color, size='M',logo=\"BLAM!\"):\n",
    "    print(\"This T-shirt is colored {}, in a {}, with the logo {}\".format(color,size,logo))\n",
    "    \n",
    "# We can call providing values for all arguments...\n",
    "describeTShirt('Red','XXL','Boom')\n",
    "\n",
    "# ...With only the required argument...\n",
    "describeTShirt('Tangerine')\n",
    "\n",
    "# ...One inline optional argument...\n",
    "describeTShirt('Purple','S')\n",
    "\n",
    "# ...or one out-of-line optional argument (using the keyword assignment)\n",
    "describeTShirt('Blue',logo='#!')"
   ]
  },
  {
   "cell_type": "markdown",
   "metadata": {},
   "source": [
    "There is an alternate approach for capturing arguments that is important to at least mention, and that is the approach using __*args__ for positional arguments, and / or __**kwargs__ for keyword arguments:\n",
    "\n",
    "```python\n",
    "# if both are used, *args always preceeds **kwargs)\n",
    "def somefunction(*args,**kwargs):\n",
    "    # do something with args ...\n",
    "```\n",
    "\n",
    "args is a list, which kwargs is a dictionary. Note that when referenced in the body the asterisks are omitted (they are actually a special type of operator that is beyond the scope of this section). \n",
    "\n",
    "We will not be refering to this method of capturing argument variables anywhere in the Part 1 of these workbooks, but be aware of this construct should you come across it in future examples.\n",
    "\n",
    "### Returning from a function\n",
    "\n",
    "A function will execute until one of the criteria are met:\n",
    "\n",
    " * The end of the function's code has been reached.\n",
    " * A `return` statement is encountered.\n",
    " * A `yield` statement is encountered.\n",
    " * An unhandled exception is encountered.\n",
    "    * from an invoked funtion.\n",
    "    * via a `raise` statement.\n",
    "\n",
    "The `yield` keyword is a special case that won't be covered here. The exception criteria will be handled in the next workbook.\n",
    "\n",
    "When `return` is encountered a function immediately exists; if there are multiple `return` statements, only the first one is executed:"
   ]
  },
  {
   "cell_type": "code",
   "execution_count": 18,
   "metadata": {},
   "outputs": [
    {
     "name": "stdout",
     "output_type": "stream",
     "text": [
      "First return hit\n",
      "Second Return hit\n"
     ]
    }
   ],
   "source": [
    "def twoReturns(doFirst):\n",
    "    if doFirst:\n",
    "        print(\"First return hit\")\n",
    "        return\n",
    "    # we don't need an else here, since the function would have returned by now if doFirst is true.\n",
    "    \n",
    "    print(\"Second Return hit\")\n",
    "    return\n",
    "    \n",
    "    print(\"This statement is unreachable\")\n",
    "\n",
    "twoReturns(True)\n",
    "twoReturns(False)"
   ]
  },
  {
   "cell_type": "markdown",
   "metadata": {},
   "source": [
    "`return` statements can optionally return one or more values. If multiple values are returned. They are implicitly packed into a `tuple`."
   ]
  },
  {
   "cell_type": "code",
   "execution_count": 21,
   "metadata": {},
   "outputs": [
    {
     "name": "stdout",
     "output_type": "stream",
     "text": [
      "Single return: Some... Thing\n",
      "Multi-return: (6, 4)\n"
     ]
    }
   ],
   "source": [
    "# A function with a single return value:\n",
    "def concat(first,second):\n",
    "    return '{}... {}'.format(first,second)\n",
    "\n",
    "print(\"Single return: \"+concat('Some','Thing'))\n",
    "\n",
    "# A function with multiple return values.\n",
    "def divWithRemainder(num,denom):\n",
    "    \n",
    "    div = num // denom\n",
    "    rem = num - (div*denom)\n",
    "    return div,rem\n",
    "\n",
    "print(\"Multi-return: \"+str(divWithRemainder(40,6)))"
   ]
  },
  {
   "cell_type": "code",
   "execution_count": null,
   "metadata": {},
   "outputs": [],
   "source": []
  }
 ],
 "metadata": {
  "kernelspec": {
   "display_name": "Python 3",
   "language": "python",
   "name": "python3"
  },
  "language_info": {
   "codemirror_mode": {
    "name": "ipython",
    "version": 3
   },
   "file_extension": ".py",
   "mimetype": "text/x-python",
   "name": "python",
   "nbconvert_exporter": "python",
   "pygments_lexer": "ipython3",
   "version": "3.6.8"
  }
 },
 "nbformat": 4,
 "nbformat_minor": 2
}
