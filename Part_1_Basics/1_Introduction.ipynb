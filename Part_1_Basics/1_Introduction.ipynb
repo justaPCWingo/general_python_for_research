{
 "cells": [
  {
   "cell_type": "markdown",
   "metadata": {},
   "source": [
    "# Introduction\n",
    "\n",
    "This section is intended to give a broad overview of Python, what it is, why it exists"
   ]
  },
  {
   "cell_type": "markdown",
   "metadata": {},
   "source": [
    "## What is Python?\n",
    "\n",
    "* A language named after Monty Python.\n",
    "* A language designed to be fun to use.\n",
    "* Both a language and the environment to execute programs written in the language.\n",
    "* A language which supports multiple programming paradigms and can fill the roll of both scripting and application development."
   ]
  },
  {
   "cell_type": "markdown",
   "metadata": {},
   "source": [
    "## Why is it Useful?\n",
    "\n",
    "* Widely excepted in both software development and science research circles.\n",
    "* The de-facto language for just about any GIS work (embedded in both ESRI's arc tools and QGIS).\n",
    "* Relatively Verbose, making it fairly easy to pick up and read, as compared to alternative languages.\n",
    "* Strong data processing capabilities inherent in design.\n",
    "* Well documented, and a large library of well-vetted 3rd party data processing and research-related resources.\n",
    "* Runs on many hardware platforms.\n",
    "* Free."
   ]
  },
  {
   "cell_type": "markdown",
   "metadata": {},
   "source": [
    "## Python 2 vs. Python 3\n",
    "\n",
    "Presently, there are two branches of python competing with one another (sort of). The **Python 2.x** branch is older, and is eventually to be replaced by the newer edition, **Python 3.x**. There are enough differences between the syntax and implementations of Python 2 and Python 3 that there is an *API break*, meaning code written in one version is not gauruanteed to work in the other. Python 2 is considered *Deprecated* in many circles, and general consensus is to use Python 3 when available. There are still a handful of tools (namely in GIS) that have not completed the transition to Python 3, and thus the supporting community is stuck using python 2.\n",
    "\n",
    "So what does this mean?\n",
    "\n",
    "Expect to use Python 3, except when working with older code, or within circles that still use Python 2 (namely GIS). There are a number of differences, but the most obvious one is the `print` statement in each version of the language.\n",
    "\n",
    "A Python 2 print statement looks something like this:\n",
    "\n",
    "```python\n",
    "print \"Hi there!\"```\n",
    "\n",
    "A Python 3 print statement looks something like this:\n",
    "\n",
    "```python \n",
    "print(\"Hi there!\")```\n",
    "\n",
    "For these tutorials we will be using **Python 3**; for differences and motivation for sticking with 3.0 see the discussion [here](https://wiki.python.org/moin/Python2orPython3)."
   ]
  },
  {
   "cell_type": "markdown",
   "metadata": {},
   "source": [
    "## Download and installation\n",
    "\n",
    "* If you are on macOS or Linux, there is a good chance that Python is already installed.\n",
    "  * Open a terminal and try typing `python3` and hitting enter. If python is installed, a terminal session should start; press `ctrl-c` to exit.\n",
    "* If you are on Windows, or otherwise do not have python installed, there are several options.\n",
    "  1. Get it [straight from the source](https://www.python.org). Click on the download button and select the appropriate package for your platform.\n",
    "  2. If you are on a Windows computer with [ESRI's ArcGIS Desktop](https://www.esri.com/en-us/store/arcgis-desktop) installed, then a Python distribution will already be installed. Depending on the edition of ArcGIS, the installed python may be set at Python 2. To install Python 3, see the next option.\n",
    "  3. Get it from a bundled source. [Anaconda](https://www.anaconda.com/distribution/) is popular, as it comes bundled with third-party packages that are often used in data science research.\n",
    "* Each Python implementation is standalone, so multiple versions of python can coexist on the same computer.\n",
    "* Installation typically uses a basic installer. Follow the prompts to properly install."
   ]
  },
  {
   "cell_type": "markdown",
   "metadata": {},
   "source": [
    "## Uses in Data Science\n",
    "\n",
    "The uses of python are many in data sciences and GIS, but here are just a few:\n",
    "* Open a spreadsheet or table, manipulate data, save changes to new spreadsheet.\n",
    "* Fetch datasets from the internet based on user arguments.\n",
    "* Data visualization when paired with a library such as [matplotlib](https://www.matplotlib.org).\n",
    "* Implement models and run simulations.\n",
    "* Convert spatial data from one coordinate system to another when using libraries such as [arcpy](https://pro.arcgis.com/en/pro-app/arcpy/get-started/what-is-arcpy-.htm) or [GDAL](https://www.gdal.org)"
   ]
  },
  {
   "cell_type": "markdown",
   "metadata": {},
   "source": [
    "## Where to find help\n",
    "\n",
    "We all get stuck at one time or another. Here are a few places to find some hints that may help.\n",
    "\n",
    "### The `dir` and `help` commands in the Python console.\n",
    "\n",
    "One of the quickest and most effective ways to explore Python is to use the **Python console**. Some tools have the console built in, but a python console should be available by typing `python` in your operating system's terminal or command prompt. The console will be discussed a bit more in the next workbook, but for now I want to touch upon a pair of useful commands.\n",
    "\n",
    "The `dir` command will list all of the commands that a variable or object will respond to. If the last sentence doesn't make sense, that's fine; just keep `dir` in mind as you progress through these workbooks.\n",
    "\n",
    "Here's the command and output for requesting all the commands that an `int` (integer) type variable responds to:"
   ]
  },
  {
   "cell_type": "code",
   "execution_count": 5,
   "metadata": {},
   "outputs": [
    {
     "data": {
      "text/plain": [
       "['__abs__',\n",
       " '__add__',\n",
       " '__and__',\n",
       " '__bool__',\n",
       " '__ceil__',\n",
       " '__class__',\n",
       " '__delattr__',\n",
       " '__dir__',\n",
       " '__divmod__',\n",
       " '__doc__',\n",
       " '__eq__',\n",
       " '__float__',\n",
       " '__floor__',\n",
       " '__floordiv__',\n",
       " '__format__',\n",
       " '__ge__',\n",
       " '__getattribute__',\n",
       " '__getnewargs__',\n",
       " '__gt__',\n",
       " '__hash__',\n",
       " '__index__',\n",
       " '__init__',\n",
       " '__init_subclass__',\n",
       " '__int__',\n",
       " '__invert__',\n",
       " '__le__',\n",
       " '__lshift__',\n",
       " '__lt__',\n",
       " '__mod__',\n",
       " '__mul__',\n",
       " '__ne__',\n",
       " '__neg__',\n",
       " '__new__',\n",
       " '__or__',\n",
       " '__pos__',\n",
       " '__pow__',\n",
       " '__radd__',\n",
       " '__rand__',\n",
       " '__rdivmod__',\n",
       " '__reduce__',\n",
       " '__reduce_ex__',\n",
       " '__repr__',\n",
       " '__rfloordiv__',\n",
       " '__rlshift__',\n",
       " '__rmod__',\n",
       " '__rmul__',\n",
       " '__ror__',\n",
       " '__round__',\n",
       " '__rpow__',\n",
       " '__rrshift__',\n",
       " '__rshift__',\n",
       " '__rsub__',\n",
       " '__rtruediv__',\n",
       " '__rxor__',\n",
       " '__setattr__',\n",
       " '__sizeof__',\n",
       " '__str__',\n",
       " '__sub__',\n",
       " '__subclasshook__',\n",
       " '__truediv__',\n",
       " '__trunc__',\n",
       " '__xor__',\n",
       " 'bit_length',\n",
       " 'conjugate',\n",
       " 'denominator',\n",
       " 'from_bytes',\n",
       " 'imag',\n",
       " 'numerator',\n",
       " 'real',\n",
       " 'to_bytes']"
      ]
     },
     "execution_count": 5,
     "metadata": {},
     "output_type": "execute_result"
    }
   ],
   "source": [
    "dir(int)"
   ]
  },
  {
   "cell_type": "markdown",
   "metadata": {},
   "source": [
    "Similarly, the `help` command will display any documentation it finds for the item being queried.\n",
    "\n",
    "Here's the command and output for requesting help on a list's `append` method:"
   ]
  },
  {
   "cell_type": "code",
   "execution_count": 7,
   "metadata": {},
   "outputs": [
    {
     "name": "stdout",
     "output_type": "stream",
     "text": [
      "Help on built-in function append:\n",
      "\n",
      "append(...) method of builtins.list instance\n",
      "    L.append(object) -> None -- append object to end\n",
      "\n"
     ]
    }
   ],
   "source": [
    "help([].append)"
   ]
  },
  {
   "cell_type": "markdown",
   "metadata": {},
   "source": [
    "Again, don't stress if this doesn't make sense quite yet. As you progress the value of these tools will become obvious."
   ]
  },
  {
   "cell_type": "markdown",
   "metadata": {},
   "source": [
    "### The Official Documentation\n",
    "\n",
    "Python's [official documentation](https://docs.python.org/3.3/) (more specifically the [Libarary Reference](https://docs.python.org/3.3/library/index.html)) is comprehensive. This documentation is rife with technical references, common language descriptions, and examples. When trying to understand something about python, start here.\n",
    "\n",
    "Related to this is the [official python wiki](https://wiki.python.org/moin/). The resources here will be a little less structured, but may provide alternative descriptions or approaches that better fit your learning style."
   ]
  },
  {
   "cell_type": "markdown",
   "metadata": {},
   "source": [
    "### Stack Overflow (or similar)\n",
    "\n",
    "[Stack Overflow](https://stackoverflow.com/) is a question & answer site by programmers, for programmers. If you are looking for a solution to a strange problem or issue, chances are someone else has already encountered it and brought it up on Stack Overflow. There is a decent Python community on Stack Overflow who oftentimes describe why their solutions work. But be aware that occasionally there is disagreement on the correct answer, or there may be no good answers provided. Also, while directly copying and pasting someone else's solution straight from Stack Overflow may solve the immediate problem, you are less likely to learn and understand the solution when compared to the other listed resources."
   ]
  },
  {
   "cell_type": "markdown",
   "metadata": {},
   "source": [
    "## Useful tools\n",
    "\n",
    "While Python distributions come with a default integrated development environment (IDE), known as IDLE, its aweful and is best to be avoided. Here are some alternative tools to use.\n",
    "\n",
    "* **Terminal or Console** - Every platform has either a terminal, command prompt, or console. This is useful for executing Python scripts, or running the interactive python console.\n",
    "* **Fancy text editor** - An editor that supports Python indentation and syntax coloring. There are many, many options out there, but here are just a few:\n",
    "  * [notepad++](https://notepad-plus-plus.org/) (windows only).\n",
    "  * vi\n",
    "  * [emacs](https://www.gnu.org/software/emacs/)\n",
    "* **Python IDEs** - A fully integrated development environment bundles text editing with many other faculties that make writing software easier. Generally its recommended to use an IDE over a simple text editor for more advanced projects, ***just not IDLE!***. Here are a small samplings of IDEs to try:\n",
    "  * [PyCharm](https://www.jetbrains.com/pycharm/) - My personal favorite, but may not work for you.\n",
    "  * [Wing Python IDE](https://wingware.com/) - Some of my GIS colleagues prefer this. Requires regular requests for free license renewal.\n",
    "  * [Spyder](https://www.spyder-ide.org/) - Focuses on scientific tool development; a little rough around the edges.\n",
    "  * [Visual Studio Code](https://code.visualstudio.com) - Microsoft's entry; gaining in popularity."
   ]
  },
  {
   "cell_type": "code",
   "execution_count": null,
   "metadata": {},
   "outputs": [],
   "source": []
  }
 ],
 "metadata": {
  "kernelspec": {
   "display_name": "Python 3",
   "language": "python",
   "name": "python3"
  },
  "language_info": {
   "codemirror_mode": {
    "name": "ipython",
    "version": 3
   },
   "file_extension": ".py",
   "mimetype": "text/x-python",
   "name": "python",
   "nbconvert_exporter": "python",
   "pygments_lexer": "ipython3",
   "version": "3.6.7"
  }
 },
 "nbformat": 4,
 "nbformat_minor": 2
}
