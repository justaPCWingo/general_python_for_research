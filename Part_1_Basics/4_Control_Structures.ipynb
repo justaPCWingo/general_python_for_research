{
 "cells": [
  {
   "cell_type": "markdown",
   "metadata": {},
   "source": [
    "# Basic Control Structures\n",
    "\n",
    "While running through a list of static instructions can be useful, the real strength of computer programs is the ability to modify the program flow based on variable conditions. This is where control structures come in.\n",
    "\n",
    "## Aside: Boolean statements and operators\n",
    "\n",
    "Before we discuss how control structures work, it is important to first understand how boolean statements work. Any boolean operation will result in either a `True` or `False` value. The most basic are the comparison operators:\n"
   ]
  },
  {
   "cell_type": "code",
   "execution_count": 3,
   "metadata": {},
   "outputs": [
    {
     "name": "stdout",
     "output_type": "stream",
     "text": [
      "Equal? False\n",
      "Not Equal? True\n",
      "Value 1 less than Value 2?\n",
      "Value 1 greater than Value 2?\n",
      "Value 1 less than or equal to Value 2?\n",
      "Value 1 greater than or equal to Value 2?\n"
     ]
    }
   ],
   "source": [
    "value1 = 3\n",
    "value2 = 4\n",
    "\n",
    "# Values are equal\n",
    "print('Equal? {}'.format(value1 == value2))\n",
    "\n",
    "# Values are not equal\n",
    "print('Not Equal? {}'.format(value1 != value2))\n",
    "\n",
    "# value 1 less than value 2\n",
    "print ('Value 1 less than Value 2?'.format(value1 < value2))\n",
    "\n",
    "# value 1 greater than value 2\n",
    "print ('Value 1 greater than Value 2?'.format(value1 > value2))\n",
    "\n",
    "# value 1 less than or equal to value 2\n",
    "print ('Value 1 less than or equal to Value 2?'.format(value1 <= value2))\n",
    "\n",
    "# value 1 greater than value 2\n",
    "print ('Value 1 greater than or equal to Value 2?'.format(value1 >= value2))\n",
    "\n"
   ]
  },
  {
   "cell_type": "markdown",
   "metadata": {},
   "source": [
    "The **is** keyword is used to determine if two variables refere to the same object. Practically speaking, you typically only use **is** to determine if a value is set to `None`:"
   ]
  },
  {
   "cell_type": "code",
   "execution_count": 2,
   "metadata": {},
   "outputs": [
    {
     "name": "stdout",
     "output_type": "stream",
     "text": [
      "Value 1 is None? False\n",
      "Value 2 is None? True\n"
     ]
    }
   ],
   "source": [
    "value1 = 'neat'\n",
    "value2 = None\n",
    "\n",
    "print('Value 1 is None? {}'.format(value1 is None))\n",
    "\n",
    "print('Value 2 is None? {}'.format(value2 is None))"
   ]
  },
  {
   "cell_type": "markdown",
   "metadata": {},
   "source": [
    "**Note:** use comparison operators for values, and **is** keyword for comparisons.\n",
    "\n",
    "You can check whether or not a value is within a container using the **in** keyword:"
   ]
  },
  {
   "cell_type": "code",
   "execution_count": 4,
   "metadata": {},
   "outputs": [
    {
     "name": "stdout",
     "output_type": "stream",
     "text": [
      "\"reading\" present? True\n",
      "\"hearing\" present? False\n",
      "Is there a shirt color? True\n",
      "Is there a rank? False\n"
     ]
    }
   ],
   "source": [
    "test_list = ['you','are','reading','these','words']\n",
    "\n",
    "# 'in' works with list values\n",
    "print('\"reading\" present? {}'.format('reading' in test_list))\n",
    "print('\"hearing\" present? {}'.format('hearing' in test_list))\n",
    "\n",
    "test_dict = {'alligance':'federation',\n",
    "             'shirt color':'red',\n",
    "             'life expectancy': 'low'\n",
    "            }\n",
    "\n",
    "# 'in' also works on the keys in a dict\n",
    "print('Is there a shirt color? {}'.format('shirt color' in test_dict))\n",
    "print('Is there a rank? {}'.format('rank' in test_dict))"
   ]
  },
  {
   "cell_type": "markdown",
   "metadata": {},
   "source": [
    "Finally, **logical operators** can be used to chain or modify the results of boolean statements. The main logical operators are `and`, `or`, and `not`:"
   ]
  },
  {
   "cell_type": "code",
   "execution_count": 11,
   "metadata": {},
   "outputs": [
    {
     "name": "stdout",
     "output_type": "stream",
     "text": [
      "Values are even? True\n",
      "Both values greater than 3? False\n",
      "Any value less than 0? False\n",
      "Any value greater than 3? True\n",
      "Value1 not even? False\n",
      "Value2 not less than 3? True\n"
     ]
    }
   ],
   "source": [
    "value1 = 2\n",
    "value2 = 4\n",
    "\n",
    "# the 'and' operator combines the results of two boolean \n",
    "# statements and returns true if and only if both values are true:\n",
    "\n",
    "print('Values are even? {}'.format(value1 % 2==0 and value2 % 2==0))\n",
    "print('Both values greater than 3? {}'.format(value1>3 and value2 > 3))\n",
    "\n",
    "# the 'or' operator combines the results of two boolean \n",
    "# statements and returns true if and only if both values are false:\n",
    "print('Any value less than 0? {}'.format(value1 < 0 or value2 < 0))\n",
    "print('Any value greater than 3? {}'.format(value1>3 or value2 > 3))\n",
    "\n",
    "# the 'not' operator inverts a boolean value:\n",
    "print('Value1 not even? {}'.format(not (value1 % 2==0)))\n",
    "print('Value2 not less than 3? {}'.format(not value2<3))\n"
   ]
  },
  {
   "cell_type": "markdown",
   "metadata": {},
   "source": [
    "## Condition statements: if, else, elif\n",
    "\n",
    "A **Condition Statement** is used to select a subset of instructions to execute based on the result of evaluating a Boolean (true/false) statement. The simplest condition statement is an **if** statement, which will only executed code within its scope if the condition statement is true:"
   ]
  },
  {
   "cell_type": "code",
   "execution_count": 12,
   "metadata": {},
   "outputs": [
    {
     "name": "stdout",
     "output_type": "stream",
     "text": [
      "The value is big\n"
     ]
    }
   ],
   "source": [
    "value = 5\n",
    "\n",
    "if value >= 3:\n",
    "    # Note the indent; this code is only executed if the above statement is true\n",
    "    print(\"The value is big\")\n",
    "    \n",
    "if value < 3:\n",
    "    print (\"The value is small\")"
   ]
  },
  {
   "cell_type": "markdown",
   "metadata": {},
   "source": [
    "If there is a set of instructions that should only occur when the condition statement is `False`, then an if-else statement can be used. An **if-else** statement has two sets of instructions: one set to evaluate if the condition is `True`, and one if it is `False`.\n",
    "\n",
    "We can rewrite the previous example using an if-else statement:"
   ]
  },
  {
   "cell_type": "code",
   "execution_count": 13,
   "metadata": {},
   "outputs": [
    {
     "name": "stdout",
     "output_type": "stream",
     "text": [
      "The value is big\n"
     ]
    }
   ],
   "source": [
    "value = 5\n",
    "\n",
    "if value >= 3:\n",
    "    # Note the indent; this code is only executed if the above statement is true\n",
    "    print(\"The value is big\")\n",
    "else:\n",
    "    print (\"The value is small\")"
   ]
  },
  {
   "cell_type": "markdown",
   "metadata": {},
   "source": [
    "Occasionally, there will be a need to chain multiple if statements together, evaluating each one only if the previous if statement was false. The **elif** (else-if) condition statement has you covered:"
   ]
  },
  {
   "cell_type": "code",
   "execution_count": 14,
   "metadata": {},
   "outputs": [
    {
     "name": "stdout",
     "output_type": "stream",
     "text": [
      "Red color!\n"
     ]
    }
   ],
   "source": [
    "the_color = 'red'\n",
    "\n",
    "if the_color == 'blue':\n",
    "    print('Blue color!')\n",
    "elif the_color == 'red':\n",
    "    print('Red color!')\n",
    "elif the_color == 'green':\n",
    "    print('Green color!')\n",
    "else:\n",
    "    print('Unknown color.')"
   ]
  },
  {
   "cell_type": "markdown",
   "metadata": {},
   "source": [
    "# Loop Statements: while-loops and for-loops\n",
    "\n",
    "Loops are critical constructs in computer program. In Python, loops come in two flavors: while-loops and for-loops. **while-loops** repeat a set of instructions until a condition statement returns `False`. Oftentimes, this means updating a variable within the loop scope that is also involved in the condition statement, understanding that the manipulation is converging on a condition where the condition statement is `False`. A loop whose condition statement always returns `True` is known as an *infinite loop*; such loops can only be exited through alternative means, one of which is explained later in this section. "
   ]
  },
  {
   "cell_type": "code",
   "execution_count": 16,
   "metadata": {},
   "outputs": [
    {
     "name": "stdout",
     "output_type": "stream",
     "text": [
      "t is 0\n",
      "t is 1\n",
      "t is 2\n",
      "t is 3\n",
      "t is 4\n",
      "-----\n",
      "I am happy right now\n",
      "I am sad right now\n",
      "I am angry right now\n",
      "I am chill right now\n"
     ]
    }
   ],
   "source": [
    "# an example while loop\n",
    "t = 0\n",
    "while t<5:\n",
    "    print('t is {}'.format(t))\n",
    "    t+=1\n",
    "\n",
    "print('-----')\n",
    "# use a while loop to parse a list\n",
    "moods=['happy','sad','angry','chill']\n",
    "i=0\n",
    "while i <len(moods):\n",
    "    print('I am {} right now'.format(moods[i]))\n",
    "    i+=1"
   ]
  },
  {
   "cell_type": "markdown",
   "metadata": {},
   "source": [
    "A **for-loop** in Python iterates through the contents of a container; how each container is iterated through is a characteristic of the type of container itself. Any object that adheres to an **iterable** interface can be parsed via a for-loop, but typically you will only be applying for-loops to built-in containers; *iterators* are an advanced topic.\n",
    "\n",
    "for-loops use the **in** keyword to specify the variable used to parse in the form of ***for*** *object* ***in*** *container*:"
   ]
  },
  {
   "cell_type": "code",
   "execution_count": 22,
   "metadata": {},
   "outputs": [
    {
     "name": "stdout",
     "output_type": "stream",
     "text": [
      "Sometimes I play Basketball\n",
      "Sometimes I play Football\n",
      "Sometimes I play Golf\n",
      "Sometimes I play Hockey\n",
      "-----\n",
      "There is a plant called \"willow\"\n",
      "There is a plant called \"corn\"\n",
      "There is a plant called \"sword\"\n",
      "-----\n",
      "\"willow\" is a type of tree\n",
      "\"corn\" is a type of grass\n",
      "\"sword\" is a type of fern\n"
     ]
    }
   ],
   "source": [
    "# for loop to iterate through a list of sports\n",
    "sports=['Basketball','Football','Golf','Hockey']\n",
    "\n",
    "for sp in sports:\n",
    "    print('Sometimes I play {}'.format(sp))\n",
    "\n",
    "# for loops can iterate through dictionaries.\n",
    "plants = {'willow':'tree',\n",
    "          'corn': 'grass',\n",
    "          'sword': 'fern'}\n",
    "print('-----')\n",
    "\n",
    "# by default, a for loop will iterate through \n",
    "# the keys of a dict\n",
    "for p in plants:\n",
    "    print('There is a plant called \"{}\"'.format(p))\n",
    "\n",
    "print('-----')\n",
    "    \n",
    "# a for-loop can iterate through (key,value) tuples of a\n",
    "# dict using the items() method:\n",
    "for k,v in plants.items():\n",
    "    print('\"{}\" is a type of {}'.format(k,v))"
   ]
  },
  {
   "cell_type": "markdown",
   "metadata": {},
   "source": [
    "When discussing for-loops, the **range()** function deserves special mention. The range() function returns a sequence of values bounded by user-specified values. range() takes one, two, or three arguments."
   ]
  },
  {
   "cell_type": "code",
   "execution_count": 23,
   "metadata": {},
   "outputs": [
    {
     "name": "stdout",
     "output_type": "stream",
     "text": [
      "\"a\" is currently 0\n",
      "\"a\" is currently 1\n",
      "\"a\" is currently 2\n",
      "\"a\" is currently 3\n",
      "\"a\" is currently 4\n",
      "\"a\" is currently 5\n",
      "\"a\" is currently 6\n",
      "\"a\" is currently 7\n",
      "\"a\" is currently 8\n",
      "\"a\" is currently 9\n",
      "\"a\" is currently 10\n",
      "\"a\" is currently 11\n",
      "\"a\" is currently 12\n",
      "\"a\" is currently 13\n",
      "\"a\" is currently 14\n",
      "\"a\" is currently 15\n",
      "\"a\" is currently 16\n",
      "\"a\" is currently 17\n",
      "\"a\" is currently 18\n",
      "\"a\" is currently 19\n",
      "-----\n",
      "\"b\" is currently 4\n",
      "\"b\" is currently 5\n",
      "\"b\" is currently 6\n",
      "\"b\" is currently 7\n",
      "\"b\" is currently 8\n",
      "\"b\" is currently 9\n",
      "\"b\" is currently 10\n",
      "\"b\" is currently 11\n",
      "\"b\" is currently 12\n",
      "\"b\" is currently 13\n",
      "\"b\" is currently 14\n",
      "\"b\" is currently 15\n",
      "\"b\" is currently 16\n",
      "\"b\" is currently 17\n",
      "\"b\" is currently 18\n",
      "\"b\" is currently 19\n",
      "-----\n",
      "\"i\" is currently 4\n",
      "\"i\" is currently 6\n",
      "\"i\" is currently 8\n",
      "\"i\" is currently 10\n",
      "\"i\" is currently 12\n",
      "\"i\" is currently 14\n",
      "\"i\" is currently 16\n",
      "\"i\" is currently 18\n"
     ]
    }
   ],
   "source": [
    "# range with one argument is in the form of range(stop), and \n",
    "# assumes the values start at 0 and the interval is 1.\n",
    "for a in range(20):\n",
    "    print('\"a\" is currently {}'.format(a))\n",
    "\n",
    "print('-----')\n",
    "\n",
    "# range with two arguments allows for setting the start and stop \n",
    "# values, with the interval assumed to be 1.\n",
    "for b in range(4,20):\n",
    "    print('\"b\" is currently {}'.format(b))\n",
    "    \n",
    "print('-----')\n",
    "\n",
    "# range with three arguments: (start, stop, interval) allows for all three \n",
    "# components to be set.\n",
    "for i in range(4,20,2):\n",
    "    print('\"i\" is currently {}'.format(i))"
   ]
  },
  {
   "cell_type": "markdown",
   "metadata": {},
   "source": [
    "## Loop flow control: break and continue\n",
    "\n",
    "There are two useful control-flow statements when working with loops: break and continue. The **break** keyword will immediately exit a loop when encountered. The **continue** keyword will immediately advance a loop to its next iteration, or exit the loop if the terminal conditions are met."
   ]
  },
  {
   "cell_type": "code",
   "execution_count": 24,
   "metadata": {},
   "outputs": [
    {
     "name": "stdout",
     "output_type": "stream",
     "text": [
      "i is now \"1\"\n",
      "i is now \"2\"\n",
      "i is now \"3\"\n",
      "i is now \"4\"\n",
      "i is now \"5\"\n",
      "i is now \"6\"\n",
      "i is now \"7\"\n",
      "i is now \"8\"\n",
      "i is now \"9\"\n",
      "i is now \"10\"\n",
      "-----\n",
      "0 is even\n",
      "2 is even\n",
      "4 is even\n",
      "6 is even\n",
      "8 is even\n"
     ]
    }
   ],
   "source": [
    "i = 0\n",
    "\n",
    "# This is a canonical infinite loop in Python; it will never end on its own...\n",
    "while True:\n",
    "    i+=1\n",
    "    if i > 10:\n",
    "        # ... but will exit on break.\n",
    "        break\n",
    "    print(f'i is now \"{i}\"')\n",
    "\n",
    "print('-----')\n",
    "\n",
    "# continue will skip certain iterations\n",
    "for a in range(10):\n",
    "    \n",
    "    if a % 2 == 1:\n",
    "        # if 'a' is odd, continue on to next iteration\n",
    "        continue\n",
    "    print(f'{a} is even')\n",
    "        \n"
   ]
  },
  {
   "cell_type": "code",
   "execution_count": null,
   "metadata": {},
   "outputs": [],
   "source": []
  }
 ],
 "metadata": {
  "kernelspec": {
   "display_name": "Python 3",
   "language": "python",
   "name": "python3"
  },
  "language_info": {
   "codemirror_mode": {
    "name": "ipython",
    "version": 3
   },
   "file_extension": ".py",
   "mimetype": "text/x-python",
   "name": "python",
   "nbconvert_exporter": "python",
   "pygments_lexer": "ipython3",
   "version": "3.6.7"
  }
 },
 "nbformat": 4,
 "nbformat_minor": 2
}
