{
 "cells": [
  {
   "cell_type": "markdown",
   "metadata": {},
   "source": [
    "# Containers\n",
    "\n",
    "Containers are a special class of variable used to store multiple values. When working with Python, you will spend much of your time working with **tuples**, **lists**, and **dicts**. These are all described, along with **sets**, in the following sections."
   ]
  },
  {
   "cell_type": "markdown",
   "metadata": {},
   "source": [
    "## Prelude: Python and indexes.\n",
    "\n",
    "Before we dive in to the various containers, we should spend a minute on how to extract data from **sequence containers**, which keep values in a specific order; both tuples and lists full under this category.\n",
    "\n",
    "### Basic indexing\n",
    "\n",
    "Python uses **zero-based indexing**, meaning the first valid index in a container is 0, as opposed to 1. Accessing a value using an index involves declaring the container name immediately followed by the index number followed by square brackets ([ ]):\n"
   ]
  },
  {
   "cell_type": "code",
   "execution_count": 1,
   "metadata": {},
   "outputs": [
    {
     "name": "stdout",
     "output_type": "stream",
     "text": [
      "1\n",
      "4\n",
      "8\n"
     ]
    }
   ],
   "source": [
    "# first build a simple list\n",
    "vals = [1,2,4,5]\n",
    "\n",
    "# access the first value\n",
    "print(vals[0])\n",
    "\n",
    "# access the third value\n",
    "print(vals[2])\n",
    "\n",
    "# You can also have containers in containers\n",
    "# Here's a list containing two tuples of three values\n",
    "nested = [(4,3,2),(6,7,8)]\n",
    "\n",
    "# print the third item in the second tuple\n",
    "print(nested[1][2])\n",
    "\n"
   ]
  },
  {
   "cell_type": "markdown",
   "metadata": {},
   "source": [
    "To determine how many items are in a container (and the range of acceptable indexes), the `len()` function can be used:"
   ]
  },
  {
   "cell_type": "code",
   "execution_count": 2,
   "metadata": {},
   "outputs": [
    {
     "name": "stdout",
     "output_type": "stream",
     "text": [
      "4\n",
      "5\n"
     ]
    },
    {
     "ename": "IndexError",
     "evalue": "list index out of range",
     "output_type": "error",
     "traceback": [
      "\u001b[0;31m---------------------------------------------------------------------------\u001b[0m",
      "\u001b[0;31mIndexError\u001b[0m                                Traceback (most recent call last)",
      "\u001b[0;32m<ipython-input-2-1bddb0407f42>\u001b[0m in \u001b[0;36m<module>\u001b[0;34m\u001b[0m\n\u001b[1;32m      9\u001b[0m \u001b[0;31m# An index greater than or equal to the length\u001b[0m\u001b[0;34m\u001b[0m\u001b[0;34m\u001b[0m\u001b[0;34m\u001b[0m\u001b[0m\n\u001b[1;32m     10\u001b[0m \u001b[0;31m# of the container produces an IndexError:\u001b[0m\u001b[0;34m\u001b[0m\u001b[0;34m\u001b[0m\u001b[0;34m\u001b[0m\u001b[0m\n\u001b[0;32m---> 11\u001b[0;31m \u001b[0mprint\u001b[0m\u001b[0;34m(\u001b[0m\u001b[0mvals\u001b[0m\u001b[0;34m[\u001b[0m\u001b[0;36m4\u001b[0m\u001b[0;34m]\u001b[0m\u001b[0;34m)\u001b[0m\u001b[0;34m\u001b[0m\u001b[0;34m\u001b[0m\u001b[0m\n\u001b[0m",
      "\u001b[0;31mIndexError\u001b[0m: list index out of range"
     ]
    }
   ],
   "source": [
    "# let's see how many items are in the vals \n",
    "# variable from the previous code block:\n",
    "\n",
    "print(len(vals))\n",
    "\n",
    "# based on this, we know the last valid index is 3:\n",
    "print(vals[3])\n",
    "\n",
    "# An index greater than or equal to the length \n",
    "# of the container produces an IndexError:\n",
    "print(vals[4])"
   ]
  },
  {
   "cell_type": "markdown",
   "metadata": {},
   "source": [
    "In many languages, this would be the end of the indexing discussion. However, there are two other index related topics that we should touch upon when discussing Python: **negative indexing** and **slicing**.\n",
    "\n",
    "### Negative indexing\n",
    "\n",
    "Python supports **negative indexes**. When negative indexes are used, the retrieved index is the length of the container minus the index:"
   ]
  },
  {
   "cell_type": "code",
   "execution_count": 3,
   "metadata": {},
   "outputs": [
    {
     "name": "stdout",
     "output_type": "stream",
     "text": [
      "There are 5 items.\n",
      "1.4\n",
      "1.2\n"
     ]
    }
   ],
   "source": [
    "# negative test:\n",
    "negative = [1.0,1.1,1.2,1.3,1.4]\n",
    "\n",
    "# lets get the length for reference\n",
    "print(f'There are {len(negative)} items.')\n",
    "\n",
    "# grab the last item (length - 1):\n",
    "print(negative[-1])\n",
    "\n",
    "# and the third from last (length - 3):\n",
    "print(negative[-3])"
   ]
  },
  {
   "cell_type": "markdown",
   "metadata": {},
   "source": [
    "Negative indexing is a powerful tool in situations where a value is required a relative distance from the end of the sequence container, regardless of its length.\n",
    "\n",
    "### Slicing\n",
    "\n",
    "The last part of the discussion on indexing involves **slicing**, or grabbing a range of values from a sequence container. The basic syntax for a slice operation is `vals[<start>:<end>]` where ***\\<start\\>*** is the first index to include, and ***\\<end\\>*** is one past the last index. Either value can be omitted; in this case ***\\<start\\>*** is assumed to be 0 and ***\\<end\\>*** is assumed to be the length of the container. Here are a few examples:"
   ]
  },
  {
   "cell_type": "code",
   "execution_count": 5,
   "metadata": {},
   "outputs": [
    {
     "name": "stdout",
     "output_type": "stream",
     "text": [
      "(0, 1, 2, 3, 4, 5, 6, 7, 8, 9, 10)\n",
      "(1, 2, 3)\n",
      "(0, 1, 2, 3, 4)\n",
      "(5, 6, 7, 8, 9, 10)\n",
      "(0, 1, 2, 3, 4, 5, 6, 7, 8, 9, 10)\n",
      "(7, 8)\n"
     ]
    }
   ],
   "source": [
    "# quick build of tuple holding values 1-10\n",
    "# range() function is covered in later notebooks.\n",
    "\n",
    "nums = tuple(range(11))\n",
    "print(nums)\n",
    "\n",
    "# let's grab a slice of the second, third, and fourth values.\n",
    "print(nums[1:4])\n",
    "\n",
    "# retrieve the first five values, omitting the start index\n",
    "print(nums[:5])\n",
    "\n",
    "# retrieve the rest of the values by omitting the last index\n",
    "print(nums[5:])\n",
    "\n",
    "# we can perform a deep copy by omitting both indexes\n",
    "# (don't worry about what a deep copy is for now)\n",
    "print(nums[:])\n",
    "\n",
    "# Negative indexes work too!\n",
    "print(nums[-4:-2])"
   ]
  },
  {
   "cell_type": "markdown",
   "metadata": {},
   "source": [
    "There is a third optional argument that can be used when slicing: the step size. This argument follows a colon (':') after the ending index, and describes how many indexes will be treversed before the next value is retrived:"
   ]
  },
  {
   "cell_type": "code",
   "execution_count": 6,
   "metadata": {},
   "outputs": [
    {
     "name": "stdout",
     "output_type": "stream",
     "text": [
      "(0, 2, 4, 6, 8, 10)\n",
      "(3, 6, 9)\n"
     ]
    }
   ],
   "source": [
    "# Use step size to retrieve the even values only.\n",
    "# The indexes are omitted since we are traversing the entire tuple.\n",
    "print(nums[::2])\n",
    "\n",
    "# Retrieve multiples of 3:\n",
    "print(nums[3:-1:3])\n"
   ]
  },
  {
   "cell_type": "markdown",
   "metadata": {},
   "source": [
    "With indexing out of the way, lets start discussing the containers.\n",
    "\n",
    "## Tuples\n",
    "\n",
    "**Tuples** are the most common container type in Python; in most cases they are declared implicitly. Literal tuple declarations use parentheses surrounding a comma separated list of entries. Here are a few examples of tuple declaration:\n",
    "\n",
    "```python\n",
    "# Empty Tuple\n",
    "empty = ()\n",
    "\n",
    "# Declaring a tuple using a literal\n",
    "explosions = ('Boom','Blam','Bam','Bang')\n",
    "\n",
    "# the parentheses are optional; this is equivalent to the previous declaration:\n",
    "explosions = 'Boom','Blam','Bam','Bang'\n",
    "\n",
    "# and, we can always be explicit\n",
    "explosions = tuple('Boom','Blam','Bam','Bang')\n",
    "\n",
    "# tuples can store mixed types\n",
    "stuff = ('Bear', 1, False, 3.6)\n",
    "\n",
    "# functions with multiple return values actually return tuples\n",
    "# functions will be discussed in a future notebook.\n",
    "def two_vals():\n",
    "    return 1,2\n",
    "\n",
    "result = two_vals()\n",
    "\n",
    "# tuples can hold other tuples:\n",
    "tup2D = ((1,2),(3,4),(5,6))\n",
    "\n",
    "#to retrieve the second value of the third tuple:\n",
    "val = tup2D[2][1]\n",
    "```\n",
    "\n",
    "The most distinct characteristic is that a tuple and its contents are **immutable**; that is, the values cannot change once they are declared. Attempting to do so will produce a type error:"
   ]
  },
  {
   "cell_type": "code",
   "execution_count": 6,
   "metadata": {
    "scrolled": true
   },
   "outputs": [
    {
     "name": "stdout",
     "output_type": "stream",
     "text": [
      "Mid-value: 3\n"
     ]
    },
    {
     "ename": "TypeError",
     "evalue": "'tuple' object does not support item assignment",
     "output_type": "error",
     "traceback": [
      "\u001b[0;31m---------------------------------------------------------------------------\u001b[0m",
      "\u001b[0;31mTypeError\u001b[0m                                 Traceback (most recent call last)",
      "\u001b[0;32m<ipython-input-6-b092984da73d>\u001b[0m in \u001b[0;36m<module>\u001b[0;34m\u001b[0m\n\u001b[1;32m      5\u001b[0m \u001b[0;34m\u001b[0m\u001b[0m\n\u001b[1;32m      6\u001b[0m \u001b[0;31m# but we cannot change them...\u001b[0m\u001b[0;34m\u001b[0m\u001b[0;34m\u001b[0m\u001b[0;34m\u001b[0m\u001b[0m\n\u001b[0;32m----> 7\u001b[0;31m \u001b[0mread_only\u001b[0m\u001b[0;34m[\u001b[0m\u001b[0;36m1\u001b[0m\u001b[0;34m]\u001b[0m\u001b[0;34m=\u001b[0m\u001b[0;36m7\u001b[0m\u001b[0;34m\u001b[0m\u001b[0;34m\u001b[0m\u001b[0m\n\u001b[0m",
      "\u001b[0;31mTypeError\u001b[0m: 'tuple' object does not support item assignment"
     ]
    }
   ],
   "source": [
    "read_only = (2,3,5)\n",
    "\n",
    "# we can freely read the values...\n",
    "print('Mid-value: {}'.format(read_only[1]))\n",
    "\n",
    "# but we cannot change them...\n",
    "read_only[1]=7"
   ]
  },
  {
   "cell_type": "markdown",
   "metadata": {},
   "source": [
    "if you want an indexable container that you can change, then you need a list.\n",
    "\n",
    "\n",
    "## Lists\n",
    "\n",
    "A **list** is a sequential container, like a tuple, but is **mutable**, meaning its size and content can change after it has been declared. A list literal is denoted using square brackets ([ ]). Here are several ways to declare lists:\n",
    "\n",
    "```python\n",
    "# an empty list\n",
    "noValues = []\n",
    "\n",
    "# a list of numbers\n",
    "someNums = [1,2,5,6]\n",
    "\n",
    "# a list of lists:\n",
    "nested = [['a','b'],['c','d','e']]\n",
    "\n",
    "```\n",
    "\n",
    "There are many ways a list can be modified; here are just a few examples:"
   ]
  },
  {
   "cell_type": "code",
   "execution_count": 7,
   "metadata": {},
   "outputs": [
    {
     "name": "stdout",
     "output_type": "stream",
     "text": [
      "initial list: [0, 1, 2, 3, 4, 5, 6, 7, 8, 9]\n",
      "next list: [-1, 1, 2, 3, 4, 5, 6, 7, 8, 9]\n",
      "next list: [-1, 1, 2, 3, 4, 5, 6, 7, 8, 9, 10]\n",
      "expanded: [-1, 1, 2, 3, 4, 5, 6, 7, 8, 9, 10, 11, 12, 13]\n",
      "removed second: [-1, 2, 3, 4, 5, 6, 7, 8, 9, 10, 11, 12, 13]\n",
      "cut out: [-1, 2, 3, 7, 8, 9, 10, 11, 12, 13]\n",
      "doubled copy: [-1, 2, 3, 7, 8, 9, 10, 11, 12, 13, -1, 2, 3, 7, 8, 9, 10, 11, 12, 13]\n"
     ]
    }
   ],
   "source": [
    "# start with a list of ten integers\n",
    "\n",
    "nums = list(range(10))\n",
    "print(\"initial list: {}\".format(nums))\n",
    "\n",
    "# change the first value to -1\n",
    "nums[0] = -1\n",
    "print(\"next list: {}\".format(nums))\n",
    "\n",
    "# append a new value\n",
    "nums.append(10)\n",
    "print(\"next list: {}\".format(nums))\n",
    "\n",
    "# append several values: \n",
    "nums+=[11,12,13]\n",
    "print(\"expanded: {}\".format(nums))\n",
    "\n",
    "# remove the second value:\n",
    "nums.pop(1)\n",
    "print(\"removed second: {}\".format(nums))\n",
    "\n",
    "# remove several values from the middle\n",
    "nums[3:6]=[]\n",
    "print(\"cut out: {}\".format(nums))\n",
    "\n",
    "# create a doubled-copy if the list\n",
    "nums2 = nums*2\n",
    "print(\"doubled copy: {}\".format(nums2))"
   ]
  },
  {
   "cell_type": "markdown",
   "metadata": {},
   "source": [
    "While both tuples and lists allow for retrieving values through an integer based indexing, sometimes it useful to retrieve values using other forms of identification. This is where dictionaries become useful.\n",
    "\n",
    "## Dictionaries (dicts)\n",
    "\n",
    "A **dict** in python is a **dictionary**, an associative container where *values* are referred to by *keys*. A key can be any python value derived from a type that allows comparisons; this includes all base python data types. Most often strings are used as keys, allowing for the labeling of a value in a direct way, but you could just as easily use integers like you would in a list or tuple. Using integers as keys allows for the emulation of *sparse-arrays*, or index-based containers where there can be gaps between indices.\n",
    "\n",
    "A dictionary literal is denoted by curly brackets ({}), and entries where key-value pairs are separated by a colon (:). Here are several examples of creating a dictionary:\n",
    "\n",
    "```python\n",
    "\n",
    "# empty dictionary\n",
    "nothing = {}\n",
    "\n",
    "#also an empty dictionary\n",
    "more_nothing = dict()\n",
    "\n",
    "# a dictionary literal\n",
    "ball = {'color':'blue',\n",
    "        'diameter':2.0,\n",
    "        'material':'rubber'\n",
    "       }\n",
    "```\n",
    "\n",
    "Dictionaries are mutable, so adding, modifying, and removing values is possible:"
   ]
  },
  {
   "cell_type": "code",
   "execution_count": 9,
   "metadata": {},
   "outputs": [
    {
     "name": "stdout",
     "output_type": "stream",
     "text": [
      "My pet is a dog\n",
      "My pet is now a cat\n",
      "My pet has a black coat\n",
      "The color of my pet's eyes is a secret\n"
     ]
    },
    {
     "ename": "KeyError",
     "evalue": "'bad_key'",
     "output_type": "error",
     "traceback": [
      "\u001b[0;31m---------------------------------------------------------------------------\u001b[0m",
      "\u001b[0;31mKeyError\u001b[0m                                  Traceback (most recent call last)",
      "\u001b[0;32m<ipython-input-9-e72e5675e2c0>\u001b[0m in \u001b[0;36m<module>\u001b[0;34m\u001b[0m\n\u001b[1;32m     23\u001b[0m \u001b[0;34m\u001b[0m\u001b[0m\n\u001b[1;32m     24\u001b[0m \u001b[0;31m# otherwise, asking for a value with a non-existant key is an error:\u001b[0m\u001b[0;34m\u001b[0m\u001b[0;34m\u001b[0m\u001b[0;34m\u001b[0m\u001b[0m\n\u001b[0;32m---> 25\u001b[0;31m \u001b[0mmy_pet\u001b[0m\u001b[0;34m[\u001b[0m\u001b[0;34m'bad_key'\u001b[0m\u001b[0;34m]\u001b[0m\u001b[0;34m\u001b[0m\u001b[0;34m\u001b[0m\u001b[0m\n\u001b[0m",
      "\u001b[0;31mKeyError\u001b[0m: 'bad_key'"
     ]
    }
   ],
   "source": [
    "# start with a pet\n",
    "my_pet = {'species':'dog',\n",
    "         'age':5,\n",
    "         'weight':22.5,\n",
    "         'is_male': True\n",
    "         }\n",
    "\n",
    "# retrieving a value is as easy as passing the key to the index operator:\n",
    "kind = my_pet['species']\n",
    "print('My pet is a '+kind)\n",
    "\n",
    "# changing a value is similar\n",
    "my_pet['species'] = 'cat'\n",
    "print('My pet is now a '+my_pet['species'])\n",
    "\n",
    "# adding a new field is the same as assigning a value to an existing field\n",
    "my_pet['color']='black'\n",
    "print('My pet has a {} coat'.format(my_pet['color']))\n",
    "\n",
    "# if you want to retrieve a value with a default if the applied key is absent, use get()\n",
    "eyes = my_pet.get('eye_color','a secret')\n",
    "print('The color of my pet\\'s eyes is {}'.format(eyes))\n",
    "\n",
    "# otherwise, asking for a value with a non-existant key will produce a keyError:\n",
    "my_pet['bad_key']"
   ]
  },
  {
   "cell_type": "markdown",
   "metadata": {},
   "source": [
    "Note that when printing a dictionary, the key-value pairs may not show up in the order that they are entered; this is because *dicts do not preserve order*. This is not an issue, however, since values are retrieved by value rather than by index.\n",
    "\n",
    "There is much more that can be done with dicts, some of which will be discussed in future notebooks.\n",
    "\n",
    "## Sets\n",
    "\n",
    "Most Python tutorials will cover the three basic container types (tuple, list, and dict) during their introductory sections. However, for our purposes there is a forth type that can be very useful. A **set** is a sequential container that garuantees that each stored value is contained once and only once. Such a container can be useful when you have datasets with potentially unwanted duplicates. \n",
    "\n",
    "Like a dict, a set literal is denoted by curly brackets ({}); however, only values are entered:\n",
    "\n",
    "```python\n",
    "\n",
    "# since '{}' is an empty dict, we have to explicitly declare an empty set\n",
    "nothing_set = set()\n",
    "\n",
    "# a simple set:\n",
    "unique_nums = {1,2,99,5}\n",
    "```\n",
    "\n",
    "A set is mutable, and will ignore duplicate values:"
   ]
  },
  {
   "cell_type": "code",
   "execution_count": 12,
   "metadata": {},
   "outputs": [
    {
     "name": "stdout",
     "output_type": "stream",
     "text": [
      "My vehicles: {'car', 'bike', 'truck'}\n",
      "My vehicles: {'car', 'hoverboard', 'bike', 'truck'}\n",
      "My vehicles: {'car', 'hoverboard', 'bike', 'truck'}\n"
     ]
    }
   ],
   "source": [
    "# initialize a set:\n",
    "some_vehicles = {'car', 'car','car','bike','truck'}\n",
    "\n",
    "# note that duplicates are ignored:\n",
    "print(\"My vehicles: {}\".format(some_vehicles))\n",
    "\n",
    "# a unique value can be added:\n",
    "some_vehicles.add('hoverboard')\n",
    "print(\"My vehicles: {}\".format(some_vehicles))\n",
    "\n",
    "# but duplicate values will be ignored:\n",
    "some_vehicles.add('truck')\n",
    "print(\"My vehicles: {}\".format(some_vehicles))"
   ]
  },
  {
   "cell_type": "markdown",
   "metadata": {},
   "source": [
    "You may have noticed that when printing out `some_vehicles`, the contents were not necessarily in the order that they were declared. Like dicts, *sets do not preserve order*. Unlike dicts, however, there is no direct way to access individual values in sets. Instead, we have to use one of several methods to access the values indirectly. Two such ways are to first cast to a list, or to iterate through using a for-loop (more on for-loops in the next notebook):"
   ]
  },
  {
   "cell_type": "code",
   "execution_count": 13,
   "metadata": {},
   "outputs": [
    {
     "name": "stdout",
     "output_type": "stream",
     "text": [
      "Some list value: 7\n",
      "Direct values:\n",
      "  1\n",
      "  2\n",
      "  6\n",
      "  7\n",
      "  44\n",
      "  -1\n"
     ]
    }
   ],
   "source": [
    "# create the test set\n",
    "some_values = {1,7,2,6,-1,44}\n",
    "\n",
    "# create a list copy\n",
    "list_values= list(some_values)\n",
    "# grab an arbitrary value\n",
    "\n",
    "print(\"Some list value: {}\".format(list_values[3]))\n",
    "\n",
    "# iterate through the set, print each value\n",
    "print(\"Direct values:\")\n",
    "for val in some_values:\n",
    "    print('  {}'.format(val))"
   ]
  },
  {
   "cell_type": "markdown",
   "metadata": {},
   "source": [
    "This is an incomplete discussion on Python's set container, as many of the capabilities and limitations of sets won't make much sense without more knowledge about Python in general. However, it is good to be aware that sets exist, especially when dealing with working with datasets that require no duplicate values."
   ]
  },
  {
   "cell_type": "code",
   "execution_count": null,
   "metadata": {},
   "outputs": [],
   "source": []
  }
 ],
 "metadata": {
  "kernelspec": {
   "display_name": "Python 3",
   "language": "python",
   "name": "python3"
  },
  "language_info": {
   "codemirror_mode": {
    "name": "ipython",
    "version": 3
   },
   "file_extension": ".py",
   "mimetype": "text/x-python",
   "name": "python",
   "nbconvert_exporter": "python",
   "pygments_lexer": "ipython3",
   "version": "3.6.7"
  }
 },
 "nbformat": 4,
 "nbformat_minor": 2
}
