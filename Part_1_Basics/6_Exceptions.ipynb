{
 "cells": [
  {
   "cell_type": "markdown",
   "metadata": {},
   "source": [
    "# Exceptions\n",
    "\n",
    "Exceptions are a method to report when something is wrong and immediately unravel the call stack. When an exception is first *raised*, Python sees if there is any user-defined code within the present scope to handle such an exception; if not, Python checks the next largest scope for a user-defined handler. If no handler is found, the Python runtime crashes, printing a *stacktrace* and the message associated with an exception.\n",
    "\n",
    "##  Why Use Exceptions?\n",
    "\n",
    "Exceptions are an extremely powerful tool for error handling, particularly in large projects. It can be used as a way to consolidate errors in a graceful fashion. [SIMPA](https://edx.netl.doe.gov/dataset/simpa-tool) for example, uses custom exception handling to throw up an error message for the user when the simulation is misconfigured or crashes. The user can then copy the issue and submit for help, and/or fix the reported issue and try rerunning SIMPA again without disrupting the workflow.\n",
    "\n",
    "By catching SIMPA related exceptions in the scope that launches the simulation, it doesn't matter where the error occurred; it will be correctly reported to the user so further action can be taken.\n",
    "\n",
    "Don't be discouraged if exceptions don't yet make sense to you; in my experience most people (including myself) won't see the point of them until they work on a project of sufficient complexity. For now, just be aware that exceptions are another tool in your tool kit.\n",
    "\n",
    "## Catching Exceptions\n",
    "\n",
    "Chances are, you have encountered Exceptions in Python without even realizing it. Most runtime errors in Python use exceptions. Accessing an index in a list that doesn't exist, for example, raises an `IndexError` exception:\n",
    "\n"
   ]
  },
  {
   "cell_type": "code",
   "execution_count": 1,
   "metadata": {},
   "outputs": [
    {
     "ename": "IndexError",
     "evalue": "list index out of range",
     "output_type": "error",
     "traceback": [
      "\u001b[0;31m---------------------------------------------------------------------------\u001b[0m",
      "\u001b[0;31mIndexError\u001b[0m                                Traceback (most recent call last)",
      "\u001b[0;32m<ipython-input-1-b733a9ca2f72>\u001b[0m in \u001b[0;36m<module>\u001b[0;34m\u001b[0m\n\u001b[1;32m      1\u001b[0m \u001b[0mthelist\u001b[0m \u001b[0;34m=\u001b[0m \u001b[0;34m[\u001b[0m\u001b[0;36m1\u001b[0m\u001b[0;34m,\u001b[0m\u001b[0;36m2\u001b[0m\u001b[0;34m]\u001b[0m\u001b[0;34m\u001b[0m\u001b[0;34m\u001b[0m\u001b[0m\n\u001b[0;32m----> 2\u001b[0;31m \u001b[0mprint\u001b[0m\u001b[0;34m(\u001b[0m\u001b[0mthelist\u001b[0m\u001b[0;34m[\u001b[0m\u001b[0;36m3\u001b[0m\u001b[0;34m]\u001b[0m\u001b[0;34m)\u001b[0m\u001b[0;34m\u001b[0m\u001b[0;34m\u001b[0m\u001b[0m\n\u001b[0m",
      "\u001b[0;31mIndexError\u001b[0m: list index out of range"
     ]
    }
   ],
   "source": [
    "thelist = [1,2]\n",
    "print(thelist[3])"
   ]
  },
  {
   "cell_type": "markdown",
   "metadata": {},
   "source": [
    "Exceptions should be caught when an alternate action should be taken instead of the program crashing. This can be accomplished by *catching* the exception within a **try-except** block. The first portion (*try block*) is the code to monitor for an exception. The second portion (*except block*) is the action to take when the Exception is caught. Here's the previous example with an exception handler:"
   ]
  },
  {
   "cell_type": "code",
   "execution_count": 2,
   "metadata": {},
   "outputs": [
    {
     "name": "stdout",
     "output_type": "stream",
     "text": [
      "An error has occurred; ignoring\n"
     ]
    }
   ],
   "source": [
    "thelist = [1,2]\n",
    "\n",
    "try:\n",
    "    print(thelist[3])\n",
    "except:\n",
    "    print(\"An error has occurred; ignoring\")"
   ]
  },
  {
   "cell_type": "markdown",
   "metadata": {},
   "source": [
    "An `except` statement will capture any exception thrown, but we can be more specific by declaring the *type* to be caught:"
   ]
  },
  {
   "cell_type": "code",
   "execution_count": 3,
   "metadata": {},
   "outputs": [
    {
     "name": "stdout",
     "output_type": "stream",
     "text": [
      "The index is out of bounds; aborting lookup\n"
     ]
    }
   ],
   "source": [
    "thelist = [1,2]\n",
    "\n",
    "try:\n",
    "    print(thelist[3])\n",
    "except IndexError:\n",
    "    print(\"The index is out of bounds; aborting lookup\")"
   ]
  },
  {
   "cell_type": "markdown",
   "metadata": {},
   "source": [
    "Multiple except blocks can be provided for different types of exceptions:"
   ]
  },
  {
   "cell_type": "code",
   "execution_count": 4,
   "metadata": {},
   "outputs": [
    {
     "name": "stdout",
     "output_type": "stream",
     "text": [
      "The index is out of bounds; aborting lookup\n"
     ]
    }
   ],
   "source": [
    "thelist = [1,2]\n",
    "\n",
    "try:\n",
    "    print(thelist[3])\n",
    "except IndexError: # bad list lookup\n",
    "    print(\"The index is out of bounds; aborting lookup\")\n",
    "except KeyError: # bad dict lookup\n",
    "    print(\"The key does not exist; aborting lookup\")\n",
    "except: # any other exceptions\n",
    "    print(\"An error has occurred; ignoring\")"
   ]
  },
  {
   "cell_type": "markdown",
   "metadata": {},
   "source": [
    "Lastly, if we want to inspect the exception object itself, we can capture it as a variable:"
   ]
  },
  {
   "cell_type": "code",
   "execution_count": 8,
   "metadata": {},
   "outputs": [
    {
     "name": "stdout",
     "output_type": "stream",
     "text": [
      "The index is out of bounds with the following message: 'list index out of range'. aborting lookup\n"
     ]
    }
   ],
   "source": [
    "thelist = [1,2]\n",
    "\n",
    "try:\n",
    "    print(thelist[3])\n",
    "except IndexError as err: # bad list lookup\n",
    "    print(\"The index is out of bounds with the following message: '{}'. aborting lookup\".format(err))"
   ]
  },
  {
   "cell_type": "markdown",
   "metadata": {},
   "source": [
    "In addition to `try` and `catch`, there are a few other optional blocks: `finally` and `else`. **finally** contains code that will be called regardless of whether or not an exception was encountered; this block typically contains cleanup code that must be called regardless of the outcome of the try-except block:"
   ]
  },
  {
   "cell_type": "code",
   "execution_count": 9,
   "metadata": {},
   "outputs": [
    {
     "name": "stdout",
     "output_type": "stream",
     "text": [
      "The index is out of bounds with the following message: 'list index out of range'. aborting lookup\n",
      "Performing Cleanup.\n"
     ]
    }
   ],
   "source": [
    "thelist = [1,2]\n",
    "\n",
    "try:\n",
    "    print(thelist[3])\n",
    "except IndexError as err: # bad list lookup\n",
    "    print(\"The index is out of bounds with the following message: '{}'. aborting lookup\".format(err))\n",
    "finally:\n",
    "    # this will always be called.\n",
    "    print(\"Performing Cleanup.\")"
   ]
  },
  {
   "cell_type": "markdown",
   "metadata": {},
   "source": [
    "Likewise, the **else** block is only called if an exception was **not** encountered:"
   ]
  },
  {
   "cell_type": "code",
   "execution_count": 10,
   "metadata": {},
   "outputs": [
    {
     "name": "stdout",
     "output_type": "stream",
     "text": [
      "The index is out of bounds with the following message: 'list index out of range'. aborting lookup\n",
      "Performing Cleanup.\n"
     ]
    }
   ],
   "source": [
    "try:\n",
    "    print(thelist[3])\n",
    "except IndexError as err: # bad list lookup\n",
    "    print(\"The index is out of bounds with the following message: '{}'. aborting lookup\".format(err))\n",
    "else:\n",
    "    # this is only called if no exceptions were raised.\n",
    "    print(\"Everything is groovy\")\n",
    "finally:\n",
    "    # this will always be called.\n",
    "    print(\"Performing Cleanup.\")"
   ]
  },
  {
   "cell_type": "markdown",
   "metadata": {},
   "source": [
    "## Raising Exceptions\n",
    "\n",
    "Sooner or later, you are going to write code that requires specific conditions which you won't be able to guarantee to be met. If the conditions aren't met, you should notify the program calling your code immediately. You can do this by raising your own exception.\n",
    "\n",
    "An exception object can be raised using the `raise` keyword:"
   ]
  },
  {
   "cell_type": "code",
   "execution_count": 16,
   "metadata": {},
   "outputs": [
    {
     "name": "stdout",
     "output_type": "stream",
     "text": [
      "Half of 4 is 2.0\n",
      "3 is odd. Operation aborted.\n"
     ]
    }
   ],
   "source": [
    "def evenHalf(inVal):\n",
    "    \"\"\"Accepts even values only; raises ValueError if value is odd.\"\"\"\n",
    "    \n",
    "    if inVal % 2 != 0:\n",
    "        # raise an error with an explanation.\n",
    "        raise ValueError(\"{} is odd.\".format(inVal))\n",
    "    return inVal / 2\n",
    "\n",
    "try:\n",
    "    print(\"Half of 4 is {}\".format(evenHalf(4)))\n",
    "    print(\"Half of 3 is {}\".format(evenHalf(3)))\n",
    "except ValueError as e:\n",
    "    print(str(e)+\" Operation aborted.\")"
   ]
  },
  {
   "cell_type": "markdown",
   "metadata": {},
   "source": [
    "We can also raise Exceptions with our own custom types; this can be useful for distinguishing errors from your own code versus errors from other places.\n",
    "\n",
    "The easiest way to build a custom exception type is to create a custom exception class. *Classes* are beyond the scope of this collection of workbooks, so for now follow the template below, replacing `OddError` with the name of your type:"
   ]
  },
  {
   "cell_type": "code",
   "execution_count": 17,
   "metadata": {},
   "outputs": [
    {
     "name": "stdout",
     "output_type": "stream",
     "text": [
      "Half of 4 is 2.0\n",
      "Value is odd\n"
     ]
    }
   ],
   "source": [
    "class OddError(Exception):\n",
    "    pass\n",
    "\n",
    "def evenHalf(inVal):\n",
    "    \"\"\"Accepts even values only; raises ValueError if value is odd.\"\"\"\n",
    "    \n",
    "    if inVal % 2 != 0:\n",
    "        # raise an error with an explanation.\n",
    "        raise OddError(\"{} is odd.\".format(inVal))\n",
    "    return inVal / 2\n",
    "\n",
    "try:\n",
    "    print(\"Half of 4 is {}\".format(evenHalf(4)))\n",
    "    print(\"Half of 3 is {}\".format(evenHalf(3)))\n",
    "except ValueError as e:\n",
    "    print(\"Bad Value.\")\n",
    "except OddError as e:\n",
    "    print(\"Value is odd\")"
   ]
  },
  {
   "cell_type": "markdown",
   "metadata": {},
   "source": [
    "Once again, don't stress if you don't quite understand exceptions yet. Just being aware that they exist means you will be able to use them when you are ready."
   ]
  },
  {
   "cell_type": "code",
   "execution_count": null,
   "metadata": {},
   "outputs": [],
   "source": []
  }
 ],
 "metadata": {
  "kernelspec": {
   "display_name": "Python 3",
   "language": "python",
   "name": "python3"
  },
  "language_info": {
   "codemirror_mode": {
    "name": "ipython",
    "version": 3
   },
   "file_extension": ".py",
   "mimetype": "text/x-python",
   "name": "python",
   "nbconvert_exporter": "python",
   "pygments_lexer": "ipython3",
   "version": "3.6.7"
  }
 },
 "nbformat": 4,
 "nbformat_minor": 2
}
