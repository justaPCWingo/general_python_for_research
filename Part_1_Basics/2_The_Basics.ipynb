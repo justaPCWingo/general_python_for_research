{
 "cells": [
  {
   "cell_type": "markdown",
   "metadata": {},
   "source": [
    "# The Basics\n",
    "A first look at the structure of a python script."
   ]
  },
  {
   "cell_type": "markdown",
   "metadata": {},
   "source": [
    "# Python: Language, interpeter, or virtual machine?\n",
    "\n",
    "Before we take a look at our first code, lets discuss what Python actually *is*.\n",
    "\n",
    "When people refer to Python as a platform, they are really referring to three things. First, there's the Python **language**; this is the syntax and logic used to construct instructions for the computer to follow. However, Python instructions are not translated to machine instructions; this is where the other things come in. \n",
    "\n",
    "The Python **Interpreter** takes instructions written in the Python language and converts it to a machine friendly format (known as **byte code**). These instructions are then fed to the **Python Virtual Machine**, or **PVM**, which translates the instructions into a form the the computer understands and can execute. There are several advantages to this approach; here are just a few:\n",
    "* The python language and interpreter do not have to worry about what computer platform they are executed on; this is handled by the PVM.\n",
    "* Automated Resource management (ie memory allocation/deallocation) is easier to implement; the programmer does not have to come up with their own memory management scheme.\n",
    "* Certain advanced language concepts are otherwise available that would be challenging or impossible to implement without an extra layer of runtime processing that lower-level languages typically lack.\n",
    "\n",
    "So, is Python a Language, Interpreter, or Virtual Machine? the answer is all of the above!"
   ]
  },
  {
   "cell_type": "markdown",
   "metadata": {},
   "source": [
    "# Hello, World!\n",
    "When introducing a programming language it is customary to start with a one line program or script introducing it to the world. For Python, the program is just a single line:"
   ]
  },
  {
   "cell_type": "code",
   "execution_count": 1,
   "metadata": {},
   "outputs": [
    {
     "name": "stdout",
     "output_type": "stream",
     "text": [
      "Hello, World!\n"
     ]
    }
   ],
   "source": [
    "print(\"Hello, World!\")"
   ]
  },
  {
   "cell_type": "markdown",
   "metadata": {},
   "source": [
    "That's it; the single line above is an entire Python script. Let's break down what's going on here:\n",
    "* The **print** keyword is an invocation of a **function**. A function is denoted by a name immediately followed by zero or more statements (commonly referred to as **arguments**) surrounded by parentheses.\n",
    "* The **\"Hello, World!\"** portion is a value type known as a **string**, ie a string of characters. Sinced the string is not assigned to a **variable**, it is known as a **constant** or **literal**. Strings are denoted by single quotes ('), double quotes(\"), or triple single or double quotes (''' or \"\"\"), thus the four statements are equivalent:\n",
    "```python\n",
    "print('Hello, World!')\n",
    "print(\"Hello, World!\")\n",
    "print('''Hello, World!''')\n",
    "print(\"\"\"Hello, World!\"\"\")\n",
    "```\n",
    "\n",
    "There's a quite a bit of jargon in the description! Don't worry if you don't understand it yet; each of the bolded terms will be covered in future sections of this and subsequent notebooks."
   ]
  },
  {
   "cell_type": "markdown",
   "metadata": {},
   "source": [
    "## Comments\n",
    "\n",
    "As a quick aside, lets discuss **comments**. Let's say that I want to include a description of our *Hello, World!* code within the program itself. It would looks something like this:"
   ]
  },
  {
   "cell_type": "code",
   "execution_count": 2,
   "metadata": {},
   "outputs": [
    {
     "name": "stdout",
     "output_type": "stream",
     "text": [
      "Hello, World!\n"
     ]
    }
   ],
   "source": [
    "# Here we will print our greeting!\n",
    "print(\"Hello, World!\")"
   ]
  },
  {
   "cell_type": "markdown",
   "metadata": {},
   "source": [
    "Notice how the line starting with the pound sign (#) did not have an effect on the execution of the program? This line is known as a **Comment**; it is ignored by the interpreter, and is there solely for the benefit of a person reading the code.\n",
    "\n",
    "Python only supports single line comments; any text on a line to the right of a pound sign is ignored by the interpreter.\n",
    "\n",
    "```python\n",
    "# This is a single line comment!\n",
    "\n",
    "\n",
    "# Since we don't do block comments,\n",
    "# We can fake it using multiple comments\n",
    "# following one another!\n",
    "\n",
    "print('Hi!')  # That's a nice greeting and will be printed!\n",
    "\n",
    "# print('Jerk!') This mean followup is rude; fortunately it won't be printed.\n",
    "```"
   ]
  },
  {
   "cell_type": "markdown",
   "metadata": {},
   "source": [
    "# Whitespace matters!\n",
    "\n",
    "All languages have to consider **scope**, or the extent at which certain concepts are valid within a larger construct. In natural language, we typically refer to this as **context**. The significance of scope will be covered in later sections, but it is important to know how scoping works before you know why.\n",
    "\n",
    "In most languages, there is usually some set of keywords or symbols denoting the beginning or ending of a scope. Python does not do this; instead, it relies on the indentation of the code itself to determine scope. This is why the phrase **Whitespace matters** comes up often in Python discussions. Note that the depth of indentation does not matter when entering a new scope; it just needs to be consistant for all other statements within the same scope.\n",
    "\n",
    "Scope determines the reach of variables (discussed in the next section) and control statements (covered in the ***Control Structures*** Notebook). Take the following code:\n"
   ]
  },
  {
   "cell_type": "code",
   "execution_count": 14,
   "metadata": {},
   "outputs": [
    {
     "name": "stdout",
     "output_type": "stream",
     "text": [
      "46\n"
     ]
    }
   ],
   "source": [
    "# This is the outermost scope\n",
    "x = 1\n",
    "for i in range(10):\n",
    "    # Now we are in the scope of the for-loop\n",
    "    x += i\n",
    "\n",
    "# We are no longer in the for-loop scope; \n",
    "# we are in the outermost scope again.\n",
    "\n",
    "#display the result:\n",
    "print(x)"
   ]
  },
  {
   "cell_type": "markdown",
   "metadata": {},
   "source": [
    "In the above code snippet, the `x += i` line is within the **for-loop**. The for-loop will execute any instructions within its scope for certain number of iterations; more on for-loops in the ***Control Structures*** notebook. Scoping will make more sense as we dig in to more of the Python language itself.\n",
    "\n",
    "## Tabs or spaces?\n",
    "\n",
    "In the ANSI and UTF-8 character sets, we have two types of whitespace: tabs and spaces. Python understands both tabs and spaces when specifying scope, but not when they are mixed together. Therefore, it is important to **choose either tabs or spaces for indentation, but not both!**. Most style guides recommend that spaces be used over tabs, as tabs can be interpreted differently by different text parsers, resulting in the styling of the code potentially varying between editors; since spaces are defined as single characters, they are represented consistantly across all editors.\n",
    "\n",
    "## The `pass` Keyword.\n",
    "\n",
    "We have one last stop on our scope discussion. Sometimes its useful to have a scope with no code in it, such as when you are in the early stages of writing a program and are sketching out the overall control flow. In languages with symbols indicating the beginning and ending of scopes, this is easy; simply have the end scope symbol immediately following the begin scope keyword. Python can't take this approach; how do you tell the difference between an empty line and an empty scope? The answer is the `pass` keyword:\n"
   ]
  },
  {
   "cell_type": "code",
   "execution_count": 15,
   "metadata": {},
   "outputs": [
    {
     "name": "stdout",
     "output_type": "stream",
     "text": [
      "1\n"
     ]
    }
   ],
   "source": [
    "# This is similar to the previous code example,\n",
    "# except that the for loop now contains an empty scope.\n",
    "x = 1\n",
    "for i in range(10):\n",
    "    # The scope for\n",
    "    pass\n",
    "\n",
    "# We are no longer in the for-loop scope; \n",
    "# we are in the outermost scope again.\n",
    "\n",
    "#display the result:\n",
    "print(x)"
   ]
  },
  {
   "cell_type": "markdown",
   "metadata": {},
   "source": [
    "Notice how the for loop has no effect on the code. The `pass` keyword is considered a **null operation**, **nop** for short. Consequently, `pass` does nothing if it exists in a scope with other valid Python code. However, it is considered bad form to leave a `pass` keyword where it is not needed."
   ]
  },
  {
   "cell_type": "markdown",
   "metadata": {},
   "source": [
    "# Variables and Types\n",
    "\n",
    "## Variable basics\n",
    "\n",
    "Now for the good stuff. Nearly all languages make use of **variables**, or names of locations to store values. Variables in programming are akin to variables in algebra, where a symbol can stand in place for a concrete value.\n",
    "\n",
    "Declaring a variable is easy:"
   ]
  },
  {
   "cell_type": "code",
   "execution_count": 16,
   "metadata": {},
   "outputs": [
    {
     "name": "stdout",
     "output_type": "stream",
     "text": [
      "3\n"
     ]
    }
   ],
   "source": [
    "# The '=' symbol is the assignment operator\n",
    "\n",
    "this_variable = 3\n",
    "\n",
    "print(this_variable)"
   ]
  },
  {
   "cell_type": "markdown",
   "metadata": {},
   "source": [
    "A direct assignment to a previously declared variable overwrites the previous value."
   ]
  },
  {
   "cell_type": "code",
   "execution_count": 13,
   "metadata": {},
   "outputs": [
    {
     "name": "stdout",
     "output_type": "stream",
     "text": [
      "5.6\n"
     ]
    }
   ],
   "source": [
    "# first value assigned.\n",
    "that_variable = 4\n",
    "\n",
    "# second value:\n",
    "that_variable = 5.6\n",
    "\n",
    "print(that_variable)"
   ]
  },
  {
   "cell_type": "markdown",
   "metadata": {},
   "source": [
    "Referencing a variable before it is declared is a **syntax error**:"
   ]
  },
  {
   "cell_type": "code",
   "execution_count": 10,
   "metadata": {},
   "outputs": [
    {
     "ename": "NameError",
     "evalue": "name 'bad_variable' is not defined",
     "output_type": "error",
     "traceback": [
      "\u001b[0;31m---------------------------------------------------------------------------\u001b[0m",
      "\u001b[0;31mNameError\u001b[0m                                 Traceback (most recent call last)",
      "\u001b[0;32m<ipython-input-10-6e1a7975b891>\u001b[0m in \u001b[0;36m<module>\u001b[0;34m\u001b[0m\n\u001b[0;32m----> 1\u001b[0;31m \u001b[0;36m4\u001b[0m \u001b[0;34m+\u001b[0m \u001b[0mbad_variable\u001b[0m\u001b[0;34m\u001b[0m\u001b[0;34m\u001b[0m\u001b[0m\n\u001b[0m",
      "\u001b[0;31mNameError\u001b[0m: name 'bad_variable' is not defined"
     ]
    }
   ],
   "source": [
    "4 + bad_variable"
   ]
  },
  {
   "cell_type": "markdown",
   "metadata": {},
   "source": [
    "### Variable name rules:\n",
    "\n",
    "There are several limitations on what characters can be used when naming variables:\n",
    "\n",
    "* Only letters, digits, and underscores ('_') are allowed in variable names.\n",
    "* A variable cannot start with a digit.\n",
    "* Variable names are **case-sensitive**, the names `Blam` and `BLAM` are considered different variables even though they are spelled the same."
   ]
  },
  {
   "cell_type": "markdown",
   "metadata": {},
   "source": [
    "## Basic variable types\n",
    "\n",
    "There are many variable types in Python. However, they all can be boiled down to some variation or composition of these four types:\n",
    "\n",
    "* `boolean`: A type with only two values: `True` and `False`. This type is useful for binary decisions, such as yes/no, on/off, go/stop etc.\n",
    "* `int`: An integer value: it can be positive (1,2,3,4,...), negative (-4,-3,-2,-1) or 0.\n",
    "* `float`: A floating precision value; used to represent fractional or whole values: 3.5,4.0, -222.32. Float values can be specified using scientific notation: 3.5e0, 4.0e0, -2.2232e2.\n",
    "* `str`: The string type as previously mentioned; represents a string of characters; empty strings are also allowed; just don't place anything between the open and closing quotes. More discussion of strings in a bit.\n",
    "\n",
    "In addition to the basic value types, there is a type that also serves as it's only value: `None`. **None** is Python's **null** indicator, and used when you have a variable that for any number of reasons is truly empty. None can only be compared and casted; no other operations will work on it. \n",
    "\n",
    "### Casting\n",
    "\n",
    "Sometimes, you will need to convert one value type to another; this is known as **casting**. To cast a value to another type, call the target type as a function with the value to be converted as its argument:"
   ]
  },
  {
   "cell_type": "code",
   "execution_count": 18,
   "metadata": {},
   "outputs": [
    {
     "name": "stdout",
     "output_type": "stream",
     "text": [
      "2\n",
      "35\n",
      "3.14159\n",
      "42\n"
     ]
    }
   ],
   "source": [
    "# cast a float to an integer\n",
    "to_print = int(2.4)\n",
    "print(to_print)\n",
    "\n",
    "# cast integer to string\n",
    "to_print = str(35)\n",
    "print(to_print)\n",
    "\n",
    "# cast string to float\n",
    "to_print=float('3.14159')\n",
    "print(to_print)\n",
    "\n",
    "#casting works on variables too!\n",
    "answer= 42\n",
    "\n",
    "answer_string = str(answer)\n",
    "\n",
    "print(answer_string)\n"
   ]
  },
  {
   "cell_type": "markdown",
   "metadata": {},
   "source": [
    "### More on Strings\n",
    "\n",
    "Strings can get complicated very quickly, so here are a few tidbits.\n",
    "\n",
    "#### Concatenation\n",
    "\n",
    "Strings can be **concatenated** together using the `+` operator:"
   ]
  },
  {
   "cell_type": "code",
   "execution_count": 21,
   "metadata": {},
   "outputs": [
    {
     "name": "stdout",
     "output_type": "stream",
     "text": [
      "Front, middle, and finally, back\n",
      "There are 4 lights!\n"
     ]
    }
   ],
   "source": [
    "\n",
    "# concatenation using several variables and a literal:\n",
    "part1 = \"Front,\"\n",
    "part2 = ' middle'\n",
    "part3 = ' back'\n",
    "\n",
    "print(part1+part2+', and finally,'+part3)\n",
    "\n",
    "# if you want to concatenate non-string types, they must first be casted:\n",
    "lights = 4\n",
    "\n",
    "print('There are '+str(lights)+' lights!')\n"
   ]
  },
  {
   "cell_type": "markdown",
   "metadata": {},
   "source": [
    "#### Format strings\n",
    "\n",
    "A **format string** is a string with placholders that can be filled in with provided values. Using format strings over long concatenations can result in more efficient and cleaner code. Formatted strings can get quite complex; here are some basic examples for the three ways to declare format strings:"
   ]
  },
  {
   "cell_type": "code",
   "execution_count": 32,
   "metadata": {},
   "outputs": [
    {
     "name": "stdout",
     "output_type": "stream",
     "text": [
      "It is nearly beer:30\n",
      "It is nearly beer:30\n",
      "It is nearly beer:30\n"
     ]
    }
   ],
   "source": [
    "# first, lets specify a few values.\n",
    "hour= 'beer'\n",
    "minute=30\n",
    "\n",
    "# old style: use %\n",
    "print('It is nearly %s:%i' % (hour, minute))\n",
    "\n",
    "# recommended style: call format function\n",
    "print('It is nearly {}:{}'.format(hour, minute))\n",
    "\n",
    "# new style (Python 3.6 or greater): f-string\n",
    "print(f'It is nearly {hour}:{minute}')"
   ]
  },
  {
   "cell_type": "markdown",
   "metadata": {},
   "source": [
    "This is just the tip of the iceberg. For a better idea of what you can accomplish with format strings, see [the official documentation](https://docs.python.org/3.4/library/string.html#format-string-syntax)"
   ]
  },
  {
   "cell_type": "markdown",
   "metadata": {},
   "source": [
    "#### The Escape characters\n",
    "\n",
    "Sometimes, you want to include characters that don't directly map to the keyboard; one such character is the **newline** character. Such characters require must be specified using special codes; These codes are known as **escape characters**; in Python an escape character is prefixed by a backslash ('\\\\'). The newline escape is \\\\n; to add several empty lines to a string for example, we could do something like this:"
   ]
  },
  {
   "cell_type": "code",
   "execution_count": 23,
   "metadata": {},
   "outputs": [
    {
     "name": "stdout",
     "output_type": "stream",
     "text": [
      "There is a long gap\n",
      "\n",
      "\n",
      "\n",
      "to here\n"
     ]
    }
   ],
   "source": [
    "print('There is a long gap\\n\\n\\n\\nto here')"
   ]
  },
  {
   "cell_type": "markdown",
   "metadata": {},
   "source": [
    "So if backslash is the indicator of an escape character, how do we print a backslash? It turns out a backslash is its own escape character:"
   ]
  },
  {
   "cell_type": "code",
   "execution_count": 24,
   "metadata": {},
   "outputs": [
    {
     "name": "stdout",
     "output_type": "stream",
     "text": [
      "This is a foward slash: / \n",
      "And this is a backslash: \\\n"
     ]
    }
   ],
   "source": [
    "print('This is a foward slash: / \\nAnd this is a backslash: \\\\')"
   ]
  },
  {
   "cell_type": "markdown",
   "metadata": {},
   "source": [
    "Lastly, if you want to disable escape characters altogether, you can specify a **raw string literal** by prefixing the string with `r`:"
   ]
  },
  {
   "cell_type": "code",
   "execution_count": 26,
   "metadata": {},
   "outputs": [
    {
     "name": "stdout",
     "output_type": "stream",
     "text": [
      "little\n",
      "icky\n",
      "little\\nicky\n"
     ]
    }
   ],
   "source": [
    "# a normal string\n",
    "print('little\\nicky')\n",
    "\n",
    "# as raw string\n",
    "print(r'little\\nicky')"
   ]
  },
  {
   "cell_type": "markdown",
   "metadata": {},
   "source": [
    "An abbreviated list of escape characters can be found [here](https://linuxconfig.org/list-of-python-escape-sequence-characters-with-examples)."
   ]
  },
  {
   "cell_type": "markdown",
   "metadata": {},
   "source": [
    "# Input / Output\n",
    "\n",
    "We would not be able to get very far without the ability for Python to read in data and provide ouput results. We've already been using Python's capacity for writing output to the console; that's the `print()` function. The input counterpart for the console is the `input()` function, which takes a string to be used as a prompt for an argument, and retrns the string entered by the user: "
   ]
  },
  {
   "cell_type": "code",
   "execution_count": 33,
   "metadata": {},
   "outputs": [
    {
     "name": "stdout",
     "output_type": "stream",
     "text": [
      "What is your name? Jerk\n",
      "Hello, Jerk\n"
     ]
    }
   ],
   "source": [
    "name = input('What is your name? ')\n",
    "\n",
    "print('Hello, '+name)"
   ]
  },
  {
   "cell_type": "markdown",
   "metadata": {},
   "source": [
    "Python also has the ability to read and write files:\n",
    "\n",
    "```python\n",
    "# To read a file pass the path and 'r' string to the \n",
    "# open() function\n",
    "inFile = open('some/path/file.txt','r')\n",
    "\n",
    "# Capture contents of file\n",
    "buffer =inFile.read()\n",
    "\n",
    "# close inFile.\n",
    "inFile.close()\n",
    "\n",
    "# Now, lets write out the data to a new file...\n",
    "# To write to a file pass the path and 'w' string to the\n",
    "# open() function\n",
    "\n",
    "outFile = open('another/path/out.txt','w')\n",
    "\n",
    "#write out contents\n",
    "outFile.write(buffer)\n",
    "\n",
    "# close output file:\n",
    "outFile.close()\n",
    "```\n",
    "\n",
    "While the above code works, the more pythonic approach is to use a `with` block, which will automatically close the file handle when the program leaves the block's scope. The previous example can be rewritten as:\n",
    "\n",
    "```python\n",
    "\n",
    "# reserve a name for the buffer data\n",
    "buffer = None\n",
    "# To read a file pass the path and 'r' string to the \n",
    "# open() function\n",
    " with open('some/path/file.txt','r') as inFile:\n",
    "    # Capture contents of file\n",
    "    buffer =inFile.read()\n",
    "\n",
    "# inFile automatically closed.\n",
    "\n",
    "\n",
    "# Now, lets write out the data to a new file...\n",
    "# To write to a file pass the path and 'w' string to the\n",
    "# open() function\n",
    "with open('another/path/out.txt','w') as outFile:\n",
    "    #write out contents\n",
    "    outFile.write(buffer)\n",
    "\n",
    "# outFile automatically closed\n",
    "\n",
    "```\n",
    "\n",
    "The second argument to `open()` is the **file mode**, we have only used the read and write text modes so far, but there are many others. Various file modes are described [here](https://docs.python.org/3/library/functions.html#open)."
   ]
  },
  {
   "cell_type": "code",
   "execution_count": null,
   "metadata": {},
   "outputs": [],
   "source": []
  }
 ],
 "metadata": {
  "kernelspec": {
   "display_name": "Python 3",
   "language": "python",
   "name": "python3"
  },
  "language_info": {
   "codemirror_mode": {
    "name": "ipython",
    "version": 3
   },
   "file_extension": ".py",
   "mimetype": "text/x-python",
   "name": "python",
   "nbconvert_exporter": "python",
   "pygments_lexer": "ipython3",
   "version": "3.6.7"
  }
 },
 "nbformat": 4,
 "nbformat_minor": 2
}
