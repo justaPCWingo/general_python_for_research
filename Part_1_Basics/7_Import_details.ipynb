{
 "cells": [
  {
   "cell_type": "markdown",
   "metadata": {},
   "source": [
    "# Importing\n",
    "\n",
    "At this point, it is likely that you have used the `import` statement extensively. So what does `import` actually do?\n",
    "\n",
    "Generally speaking, importing allows a programmer to access functionality defined outside of their own code. Imports work on **modules** and **packages**. Any existing Python script can be imported as a module, exposing any variables, functions, and/or classes declared within. A package, however, is a directory structure containing one or more modules; larger codebases, such as numpy, are typically distributed as packages.\n",
    "\n",
    "For our purposes, there is no difference between importing a module and importing a package.\n",
    "\n",
    "## Variations on import statements\n",
    "\n",
    "The most basic import statement makes the contents of a module available as a *namespace*; all imported attributes and behaviors are referenced through the associated module's namespace:"
   ]
  },
  {
   "cell_type": "code",
   "execution_count": 1,
   "metadata": {},
   "outputs": [
    {
     "name": "stdout",
     "output_type": "stream",
     "text": [
      "3.6.7 (default, Oct 22 2018, 11:32:17) \n",
      "[GCC 8.2.0]\n"
     ]
    }
   ],
   "source": [
    "import sys\n",
    "\n",
    "print(sys.version)"
   ]
  },
  {
   "cell_type": "markdown",
   "metadata": {},
   "source": [
    "Individual functions, classes, and/or variables can be imported from a module directly into the current scope using the `from` clause:"
   ]
  },
  {
   "cell_type": "code",
   "execution_count": 2,
   "metadata": {},
   "outputs": [
    {
     "name": "stdout",
     "output_type": "stream",
     "text": [
      "1013\n"
     ]
    }
   ],
   "source": [
    "from sys import api_version\n",
    "\n",
    "print(api_version)"
   ]
  },
  {
   "cell_type": "markdown",
   "metadata": {},
   "source": [
    "Modules and imported entities can be renamed on import using the `as` clause:"
   ]
  },
  {
   "cell_type": "code",
   "execution_count": 3,
   "metadata": {},
   "outputs": [
    {
     "name": "stdout",
     "output_type": "stream",
     "text": [
      "('path/to/some', 'file.txt')\n"
     ]
    }
   ],
   "source": [
    "import os.path as pathUtils\n",
    "\n",
    "print(pathUtils.split(\"path/to/some/file.txt\"))"
   ]
  },
  {
   "cell_type": "markdown",
   "metadata": {},
   "source": [
    "Lastly, all entities from within a module can be imported by specifying the target for import as an asterisk (\\*). **Note:** This is generally considered bad form, as it can obscure the origin of a function, method, or class, and it can lead to unintentional namespace bloat. Use sparingly:"
   ]
  },
  {
   "cell_type": "code",
   "execution_count": 4,
   "metadata": {},
   "outputs": [
    {
     "name": "stdout",
     "output_type": "stream",
     "text": [
      "('path/to/some/file', '.txt')\n"
     ]
    }
   ],
   "source": [
    "from os.path import *\n",
    "\n",
    "print(splitext(\"path/to/some/file.txt\"))"
   ]
  },
  {
   "cell_type": "markdown",
   "metadata": {},
   "source": [
    "## Importing your script as a module\n",
    "\n",
    "As previously mentioned, any Python script can be imported as a module, including your own. Perhaps you have some functions declared that you'd like to use in another script; importing your script as a module is an easy way to accomplish this. \n",
    "\n",
    "When a module is imported, the code within it is actually **executed**. Usually, its a good idea to protect any top level script code from being triggered via an import statement. This can be accomplished via the following idiom:\n",
    "\n",
    "```python\n",
    "if __name__==\"__main__\":\n",
    "    #script code here\n",
    "```\n",
    "\n",
    "When a script is imported as a module, the `__name__` variable is set to the name of the module; however, when a script is directly executed by Python, the `__name__` variable is set to `__main__`. \n",
    "\n",
    "Another benefit to using the `if __name__==\"__main__\":` statement is that you give a clue to other programmers as to where your script logic actually starts. Get into the habit of including this guard in your code, and you'll avoid painful bugs in the future."
   ]
  },
  {
   "cell_type": "code",
   "execution_count": null,
   "metadata": {},
   "outputs": [],
   "source": []
  }
 ],
 "metadata": {
  "kernelspec": {
   "display_name": "Python 3",
   "language": "python",
   "name": "python3"
  },
  "language_info": {
   "codemirror_mode": {
    "name": "ipython",
    "version": 3
   },
   "file_extension": ".py",
   "mimetype": "text/x-python",
   "name": "python",
   "nbconvert_exporter": "python",
   "pygments_lexer": "ipython3",
   "version": "3.6.7"
  }
 },
 "nbformat": 4,
 "nbformat_minor": 2
}
