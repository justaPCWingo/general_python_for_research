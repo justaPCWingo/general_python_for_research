{
 "cells": [
  {
   "cell_type": "markdown",
   "metadata": {},
   "source": [
    "# Aside: Documenting your code.\n",
    "\n",
    "If you are sharing your code, you should document it. Generally speaking, its a good idea to provide a one line comment for any block of code that makes a discreet portion of the program's logic:\n",
    "\n",
    "```python\n",
    "\n",
    "# retrieve the name of the user from the arguments to the script\n",
    "# and use as a greeting.\n",
    "name = sys.argv[1]\n",
    "print('Hello, '+name)\n",
    "\n",
    "```\n",
    "\n",
    "Python provides another faculty for documenting code: The **Docstring**.\n",
    "\n",
    "## Docstrings\n",
    "\n",
    "Docstrings are triple-quoted string on the very first non-comment or non-blank line of a module, class, or function declaration that provides a description of the module, class, or function itself. Docstrings vary from comments in that they are present in the code, and can be referenced using the `help()` function."
   ]
  },
  {
   "cell_type": "code",
   "execution_count": 2,
   "metadata": {},
   "outputs": [
    {
     "name": "stdout",
     "output_type": "stream",
     "text": [
      "SumNums help:\n",
      "Help on function sumNums in module __main__:\n",
      "\n",
      "sumNums(a, b)\n",
      "    This function sums two numbers.\n",
      "    \n",
      "    Args:\n",
      "        a(number): the first number to add.\n",
      "        b(number): the second number to add.\n",
      "        \n",
      "    Returns:\n",
      "        number: the sum of the values provided by a and b.\n",
      "\n"
     ]
    }
   ],
   "source": [
    "def sumNums(a,b):\n",
    "    \"\"\"This function sums two numbers.\n",
    "    \n",
    "    Args:\n",
    "        a(number): the first number to add.\n",
    "        b(number): the second number to add.\n",
    "        \n",
    "    Returns:\n",
    "        number: the sum of the values provided by a and b.\n",
    "    \"\"\"\n",
    "    return a + b\n",
    "\n",
    "print(\"SumNums help:\")\n",
    "help(sumNums)"
   ]
  },
  {
   "cell_type": "markdown",
   "metadata": {},
   "source": [
    "Docstrings are also used by tools which can be used to build external source code documentation, such as [pydoc](https://docs.python.org/2/library/pydoc.html), [Sphinx](http://www.sphinx-doc.org/en/master/), or the inline help provided by an IDE.\n",
    "\n",
    "While a docstring contains freeform text, here are a few things to consider:\n",
    "* While both triple single- and double-quotes should work, in practice many tools only recognize the triple double-quote; stick with that for docstrings.\n",
    "* Every function should have a docstring that, at a minimum, contains the following:\n",
    "  * Description of what the function does (1-2 sentences).\n",
    "  * A description of each argument, if any.\n",
    "  * A description of the return values, if any.\n",
    "  * Any exceptions that may be raised by the function if something goes wrong.\n",
    "* It is recommended that a specific style be followed when writing comments. While many folks prefer [reStructuredText](http://docutils.sourceforge.net/rst.html) since its the default syntax recognized by Sphinx, I generally recommend [google-style](https://sphinxcontrib-napoleon.readthedocs.io/en/latest/example_google.html) docstrings since they easier to read and still parsable by documentation tools.\n",
    "\n",
    "Regardless of how you do it, get in to the habit of documenting your code now; it will save you heartache in the long run."
   ]
  },
  {
   "cell_type": "code",
   "execution_count": null,
   "metadata": {},
   "outputs": [],
   "source": []
  }
 ],
 "metadata": {
  "kernelspec": {
   "display_name": "Python 3",
   "language": "python",
   "name": "python3"
  },
  "language_info": {
   "codemirror_mode": {
    "name": "ipython",
    "version": 3
   },
   "file_extension": ".py",
   "mimetype": "text/x-python",
   "name": "python",
   "nbconvert_exporter": "python",
   "pygments_lexer": "ipython3",
   "version": "3.6.7"
  }
 },
 "nbformat": 4,
 "nbformat_minor": 2
}
